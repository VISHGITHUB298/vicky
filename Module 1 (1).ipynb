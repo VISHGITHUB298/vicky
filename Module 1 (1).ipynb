{
 "cells": [
  {
   "cell_type": "markdown",
   "id": "a18fa44b",
   "metadata": {},
   "source": [
    "# 1.Write a Python program to swap first and last element of the list."
   ]
  },
  {
   "cell_type": "code",
   "execution_count": 1,
   "id": "68af1ccc",
   "metadata": {},
   "outputs": [],
   "source": [
    "def swapList(list):\n",
    "     \n",
    "    # Storing the first and last element\n",
    "    get = list[-1], list[0]\n",
    "     \n",
    "    # unpacking those elements\n",
    "    list[0], list[-1] = get\n",
    "     \n",
    "    return list"
   ]
  },
  {
   "cell_type": "code",
   "execution_count": 2,
   "id": "ed43c89e",
   "metadata": {},
   "outputs": [
    {
     "name": "stdout",
     "output_type": "stream",
     "text": [
      "[24, 35, 9, 56, 12]\n"
     ]
    }
   ],
   "source": [
    "newList = [12, 35, 9, 56, 24]\n",
    "print(swapList(newList))"
   ]
  },
  {
   "cell_type": "markdown",
   "id": "05295594",
   "metadata": {},
   "source": [
    "# 2.Write Python program to find the length of list using for loop."
   ]
  },
  {
   "cell_type": "code",
   "execution_count": 3,
   "id": "a96dc7a6",
   "metadata": {},
   "outputs": [],
   "source": [
    "test_list = [1, 4, 5, 7, 8]"
   ]
  },
  {
   "cell_type": "code",
   "execution_count": 4,
   "id": "106c22b0",
   "metadata": {},
   "outputs": [
    {
     "name": "stdout",
     "output_type": "stream",
     "text": [
      "The list is : [1, 4, 5, 7, 8]\n"
     ]
    }
   ],
   "source": [
    "print(\"The list is : \" + str(test_list))"
   ]
  },
  {
   "cell_type": "code",
   "execution_count": 5,
   "id": "468022aa",
   "metadata": {},
   "outputs": [
    {
     "name": "stdout",
     "output_type": "stream",
     "text": [
      "Length of list is : 5\n"
     ]
    }
   ],
   "source": [
    "counter = 0\n",
    "for i in test_list:\n",
    "    counter = counter + 1\n",
    "print(\"Length of list is : \" + str(counter))"
   ]
  },
  {
   "cell_type": "markdown",
   "id": "5e6831f5",
   "metadata": {},
   "source": [
    "# 3. Given a list of numbers, you need to write a Python program to find the second largest number in the list."
   ]
  },
  {
   "cell_type": "code",
   "execution_count": 6,
   "id": "934d5928",
   "metadata": {},
   "outputs": [],
   "source": [
    "list1 =[10,56,23,89,23,45,90,110,34,78]"
   ]
  },
  {
   "cell_type": "code",
   "execution_count": 7,
   "id": "2df16dce",
   "metadata": {},
   "outputs": [],
   "source": [
    "list2 = list(set(list1))"
   ]
  },
  {
   "cell_type": "code",
   "execution_count": 8,
   "id": "1987daee",
   "metadata": {},
   "outputs": [],
   "source": [
    "list2.sort()"
   ]
  },
  {
   "cell_type": "code",
   "execution_count": 9,
   "id": "26fdde4a",
   "metadata": {},
   "outputs": [
    {
     "name": "stdout",
     "output_type": "stream",
     "text": [
      "Second largest element is: 90\n"
     ]
    }
   ],
   "source": [
    "print(\"Second largest element is:\", list2[-2])"
   ]
  },
  {
   "cell_type": "markdown",
   "id": "ccae4818",
   "metadata": {},
   "source": [
    "# 4. Write a program to perform addition, subtraction, multiplication, integer division, floor division and modulo division on two integer and float."
   ]
  },
  {
   "cell_type": "code",
   "execution_count": 10,
   "id": "b393b36a",
   "metadata": {},
   "outputs": [
    {
     "name": "stdout",
     "output_type": "stream",
     "text": [
      "The sum of 10 and 30 is: 40\n"
     ]
    }
   ],
   "source": [
    "var1=10\n",
    "var2=30\n",
    "sum=var1+var2\n",
    "print(\"The sum of\",var1,\"and\",var2,\"is:\",sum)"
   ]
  },
  {
   "cell_type": "code",
   "execution_count": 11,
   "id": "87e09444",
   "metadata": {},
   "outputs": [
    {
     "name": "stdout",
     "output_type": "stream",
     "text": [
      "The difference between 50 and 30 is: 20\n"
     ]
    }
   ],
   "source": [
    "var1=50\n",
    "var2=30\n",
    "diff=var1-var2\n",
    "print(\"The difference between\",var1,\"and\",var2,\"is:\",diff)"
   ]
  },
  {
   "cell_type": "code",
   "execution_count": 12,
   "id": "1676d04e",
   "metadata": {},
   "outputs": [
    {
     "name": "stdout",
     "output_type": "stream",
     "text": [
      "The product of 50 and 30 is: 1500\n"
     ]
    }
   ],
   "source": [
    "var1=50\n",
    "var2=30\n",
    "product=var1*var2\n",
    "print(\"The product of\",var1,\"and\",var2,\"is:\",product)"
   ]
  },
  {
   "cell_type": "code",
   "execution_count": 13,
   "id": "8e195e01",
   "metadata": {},
   "outputs": [
    {
     "name": "stdout",
     "output_type": "stream",
     "text": [
      "The quotient of 50 and 30 is: 1.6666666666666667\n"
     ]
    }
   ],
   "source": [
    "var1=50\n",
    "var2=30\n",
    "quotient=var1/var2\n",
    "print(\"The quotient of\",var1,\"and\",var2,\"is:\",quotient)"
   ]
  },
  {
   "cell_type": "code",
   "execution_count": 14,
   "id": "4302b63b",
   "metadata": {},
   "outputs": [
    {
     "name": "stdout",
     "output_type": "stream",
     "text": [
      "The remainder of 50 and 30 is: 20\n"
     ]
    }
   ],
   "source": [
    "var1=50\n",
    "var2=30\n",
    "rem=var1%var2\n",
    "print(\"The remainder of\",var1,\"and\",var2,\"is:\",rem)"
   ]
  },
  {
   "cell_type": "code",
   "execution_count": 15,
   "id": "41709a2e",
   "metadata": {},
   "outputs": [
    {
     "name": "stdout",
     "output_type": "stream",
     "text": [
      "The floor division between 10 and 7 is: 1\n"
     ]
    }
   ],
   "source": [
    "var1=10\n",
    "var2=7\n",
    "floordiv=var1//var2\n",
    "print(\"The floor division between\",var1,\"and\",var2,\"is:\",floordiv)"
   ]
  },
  {
   "cell_type": "markdown",
   "id": "826d36aa",
   "metadata": {},
   "source": [
    "# 5.Write a program to convert degree Fahrenheit to Celsius"
   ]
  },
  {
   "cell_type": "code",
   "execution_count": 16,
   "id": "13e52a32",
   "metadata": {},
   "outputs": [
    {
     "name": "stdout",
     "output_type": "stream",
     "text": [
      "54 degree Celsius is equal to 129.2 degree Fahrenheit.\n"
     ]
    }
   ],
   "source": [
    "celsius = 54\n",
    "fahrenheit = (celsius * 1.8) + 32\n",
    "print(str(celsius )+ \" degree Celsius is equal to \" + str(fahrenheit )+ \" degree Fahrenheit.\")"
   ]
  },
  {
   "cell_type": "markdown",
   "id": "e1342d48",
   "metadata": {},
   "source": [
    "# 6.Write a python program to find whether given string is palindrome"
   ]
  },
  {
   "cell_type": "code",
   "execution_count": 17,
   "id": "fec10f9d",
   "metadata": {},
   "outputs": [],
   "source": [
    "def isPalindrome(s):\n",
    "    return s == s[::-1]"
   ]
  },
  {
   "cell_type": "code",
   "execution_count": 18,
   "id": "d9f85c3c",
   "metadata": {},
   "outputs": [
    {
     "name": "stdout",
     "output_type": "stream",
     "text": [
      "Yes\n"
     ]
    }
   ],
   "source": [
    "s = \"amaama\"\n",
    "ans = isPalindrome(s)\n",
    "  \n",
    "if ans:\n",
    "    print(\"Yes\")\n",
    "else:\n",
    "    print(\"No\")"
   ]
  },
  {
   "cell_type": "markdown",
   "id": "cf17a581",
   "metadata": {},
   "source": [
    "# 7. Write a python program using for loop to get the sum of given tuple"
   ]
  },
  {
   "cell_type": "code",
   "execution_count": 39,
   "id": "6878dabe",
   "metadata": {},
   "outputs": [
    {
     "name": "stdout",
     "output_type": "stream",
     "text": [
      "The original tuple is : (13, 56, 78, 23, 67, 89, 23)\n"
     ]
    }
   ],
   "source": [
    "test_tup = (13,56,78,23,67,89,23)\n",
    " \n",
    "# printing original tuple\n",
    "print(\"The original tuple is : \" + str(test_tup))"
   ]
  },
  {
   "cell_type": "code",
   "execution_count": 40,
   "id": "7b92a92b",
   "metadata": {},
   "outputs": [],
   "source": [
    "res = 0\n",
    "for i in test_tup:\n",
    "    res += i"
   ]
  },
  {
   "cell_type": "code",
   "execution_count": 41,
   "id": "bccf7976",
   "metadata": {},
   "outputs": [
    {
     "name": "stdout",
     "output_type": "stream",
     "text": [
      "The summation of tuple elements are : 349\n"
     ]
    }
   ],
   "source": [
    "print(\"The summation of tuple elements are : \" + str(res))"
   ]
  },
  {
   "cell_type": "markdown",
   "id": "73963f44",
   "metadata": {},
   "source": [
    "# 8. Write a python program to find the sum of dictionary values"
   ]
  },
  {
   "cell_type": "code",
   "execution_count": 42,
   "id": "b8bdb529",
   "metadata": {},
   "outputs": [],
   "source": [
    "def returnSum(dict):\n",
    " \n",
    "    sum = 0\n",
    "    for i in dict.values():\n",
    "        sum = sum + i\n",
    " \n",
    "    return sum"
   ]
  },
  {
   "cell_type": "code",
   "execution_count": 43,
   "id": "357eb1fb",
   "metadata": {},
   "outputs": [
    {
     "name": "stdout",
     "output_type": "stream",
     "text": [
      "Sum : 600\n"
     ]
    }
   ],
   "source": [
    "dict = {'a': 100, 'b': 200, 'c': 300}\n",
    "print(\"Sum :\", returnSum(dict))"
   ]
  },
  {
   "cell_type": "markdown",
   "id": "d16f7287",
   "metadata": {},
   "source": [
    "# 9. Write a python program using inline function lambda to find the sum of list"
   ]
  },
  {
   "cell_type": "code",
   "execution_count": 44,
   "id": "cf5bd939",
   "metadata": {},
   "outputs": [],
   "source": [
    "def add(data):\n",
    "    s=0\n",
    "    for n in data:\n",
    "        s=s+n\n",
    "    return s"
   ]
  },
  {
   "cell_type": "code",
   "execution_count": 45,
   "id": "2278683c",
   "metadata": {},
   "outputs": [
    {
     "name": "stdout",
     "output_type": "stream",
     "text": [
      "List of fibonacci numbers : [0, 1, 1, 2, 3, 5, 8, 13, 21, 34, 55]\n"
     ]
    }
   ],
   "source": [
    "fiboList = [0,1,1,2,3,5,8,13,21,34,55]\n",
    "print(\"List of fibonacci numbers :\",fiboList)"
   ]
  },
  {
   "cell_type": "code",
   "execution_count": 46,
   "id": "6cf2da99",
   "metadata": {},
   "outputs": [
    {
     "name": "stdout",
     "output_type": "stream",
     "text": [
      "The sum of all elements is  143\n"
     ]
    }
   ],
   "source": [
    "listSum = add(fiboList)\n",
    "print(\"The sum of all elements is \",listSum)"
   ]
  },
  {
   "cell_type": "markdown",
   "id": "a87df0fb",
   "metadata": {},
   "source": [
    "# 10. Write a python program to multiply an Identity matrix of dimension 3-by-3 with given matrix"
   ]
  },
  {
   "cell_type": "code",
   "execution_count": 57,
   "id": "443f058f",
   "metadata": {},
   "outputs": [],
   "source": [
    "A=([[9,10,11],\n",
    "[12,13,14],\n",
    "[15,16,17]])\n",
    "\n",
    "B=([[9,10,11],\n",
    "[12,13,14],\n",
    "[15,16,17]])\n",
    "\n"
   ]
  },
  {
   "cell_type": "code",
   "execution_count": 58,
   "id": "c6a926e1",
   "metadata": {},
   "outputs": [
    {
     "ename": "NameError",
     "evalue": "name 'np' is not defined",
     "output_type": "error",
     "traceback": [
      "\u001b[1;31m---------------------------------------------------------------------------\u001b[0m",
      "\u001b[1;31mNameError\u001b[0m                                 Traceback (most recent call last)",
      "\u001b[1;32m~\\AppData\\Local\\Temp\\ipykernel_11076\\467288389.py\u001b[0m in \u001b[0;36m<module>\u001b[1;34m\u001b[0m\n\u001b[1;32m----> 1\u001b[1;33m \u001b[0mprint\u001b[0m\u001b[1;33m(\u001b[0m\u001b[0mnp\u001b[0m\u001b[1;33m.\u001b[0m\u001b[0mdot\u001b[0m\u001b[1;33m(\u001b[0m\u001b[0mA\u001b[0m\u001b[1;33m,\u001b[0m\u001b[0mB\u001b[0m\u001b[1;33m)\u001b[0m\u001b[1;33m)\u001b[0m\u001b[1;33m\u001b[0m\u001b[1;33m\u001b[0m\u001b[0m\n\u001b[0m\u001b[0;32m      2\u001b[0m \u001b[1;33m\u001b[0m\u001b[0m\n",
      "\u001b[1;31mNameError\u001b[0m: name 'np' is not defined"
     ]
    }
   ],
   "source": [
    "print(np.dot(A,B))\n",
    " "
   ]
  },
  {
   "cell_type": "markdown",
   "id": "ddc43a76",
   "metadata": {},
   "source": [
    "# 11. Write a program to Check whether a NumPy array contains a specified row"
   ]
  },
  {
   "cell_type": "code",
   "execution_count": 60,
   "id": "cc051276",
   "metadata": {},
   "outputs": [],
   "source": [
    "import numpy as np"
   ]
  },
  {
   "cell_type": "code",
   "execution_count": 63,
   "id": "aaca802e",
   "metadata": {},
   "outputs": [],
   "source": [
    "num = np.arange(20)\n",
    "arr1 = np.reshape(num, [4, 5])"
   ]
  },
  {
   "cell_type": "code",
   "execution_count": 64,
   "id": "b72117aa",
   "metadata": {},
   "outputs": [
    {
     "name": "stdout",
     "output_type": "stream",
     "text": [
      "Original array:\n",
      "[[ 0  1  2  3  4]\n",
      " [ 5  6  7  8  9]\n",
      " [10 11 12 13 14]\n",
      " [15 16 17 18 19]]\n",
      "True\n",
      "False\n",
      "True\n"
     ]
    }
   ],
   "source": [
    "print(\"Original array:\")\n",
    "print(arr1)\n",
    "print([0, 1, 2, 3, 4] in arr1.tolist())\n",
    "print([0, 1, 2, 3, 5] in arr1.tolist())\n",
    "print([15, 16, 17, 18, 19] in arr1.tolist())"
   ]
  },
  {
   "cell_type": "markdown",
   "id": "7deb6459",
   "metadata": {},
   "source": [
    "# 12. Write a python program to flatten the NumPy matrix of size 3-by-3"
   ]
  },
  {
   "cell_type": "code",
   "execution_count": 68,
   "id": "7e79e048",
   "metadata": {},
   "outputs": [
    {
     "data": {
      "text/plain": [
       "array([2, 3, 4, 7, 8, 9, 4, 5, 6])"
      ]
     },
     "execution_count": 68,
     "metadata": {},
     "output_type": "execute_result"
    }
   ],
   "source": [
    "import numpy as np\n",
    "y = np.array([[[2,3,4],[7,8,9], [4,5,6]]])\n",
    "y.flatten()"
   ]
  },
  {
   "cell_type": "code",
   "execution_count": null,
   "id": "b59d877c",
   "metadata": {},
   "outputs": [],
   "source": []
  }
 ],
 "metadata": {
  "kernelspec": {
   "display_name": "Python 3 (ipykernel)",
   "language": "python",
   "name": "python3"
  },
  "language_info": {
   "codemirror_mode": {
    "name": "ipython",
    "version": 3
   },
   "file_extension": ".py",
   "mimetype": "text/x-python",
   "name": "python",
   "nbconvert_exporter": "python",
   "pygments_lexer": "ipython3",
   "version": "3.9.13"
  }
 },
 "nbformat": 4,
 "nbformat_minor": 5
}
