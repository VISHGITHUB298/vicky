{
 "cells": [
  {
   "cell_type": "markdown",
   "id": "f8130c45",
   "metadata": {
    "papermill": {
     "duration": 0.013,
     "end_time": "2023-03-06T07:10:49.753376",
     "exception": false,
     "start_time": "2023-03-06T07:10:49.740376",
     "status": "completed"
    },
    "tags": []
   },
   "source": [
    "# Titanic Survivor Prediction\n",
    "---"
   ]
  },
  {
   "cell_type": "markdown",
   "id": "69506b07",
   "metadata": {
    "papermill": {
     "duration": 0.010834,
     "end_time": "2023-03-06T07:10:49.775483",
     "exception": false,
     "start_time": "2023-03-06T07:10:49.764649",
     "status": "completed"
    },
    "tags": []
   },
   "source": [
    "# Installations"
   ]
  },
  {
   "cell_type": "code",
   "execution_count": null,
   "id": "1716fbb2",
   "metadata": {
    "_cell_guid": "b1076dfc-b9ad-4769-8c92-a6c4dae69d19",
    "_uuid": "8f2839f25d086af736a60e9eeb907d3b93b6e0e5",
    "execution": {
     "iopub.execute_input": "2023-03-06T07:10:49.800310Z",
     "iopub.status.busy": "2023-03-06T07:10:49.799797Z",
     "iopub.status.idle": "2023-03-06T07:12:14.866427Z",
     "shell.execute_reply": "2023-03-06T07:12:14.865075Z"
    },
    "papermill": {
     "duration": 85.083119,
     "end_time": "2023-03-06T07:12:14.869320",
     "exception": false,
     "start_time": "2023-03-06T07:10:49.786201",
     "status": "completed"
    },
    "tags": []
   },
   "outputs": [],
   "source": [
    "!pip install -q autoviz\n",
    "!pip install -q -U --pre pycaret"
   ]
  },
  {
   "cell_type": "markdown",
   "id": "2cb5e2f2",
   "metadata": {
    "papermill": {
     "duration": 0.010466,
     "end_time": "2023-03-06T07:12:14.891085",
     "exception": false,
     "start_time": "2023-03-06T07:12:14.880619",
     "status": "completed"
    },
    "tags": []
   },
   "source": [
    "# Imports"
   ]
  },
  {
   "cell_type": "code",
   "execution_count": null,
   "id": "5b090bba",
   "metadata": {
    "execution": {
     "iopub.execute_input": "2023-03-06T07:12:14.916604Z",
     "iopub.status.busy": "2023-03-06T07:12:14.916141Z",
     "iopub.status.idle": "2023-03-06T07:12:21.311913Z",
     "shell.execute_reply": "2023-03-06T07:12:21.310358Z"
    },
    "papermill": {
     "duration": 6.412837,
     "end_time": "2023-03-06T07:12:21.315577",
     "exception": false,
     "start_time": "2023-03-06T07:12:14.902740",
     "status": "completed"
    },
    "tags": []
   },
   "outputs": [],
   "source": [
    "import pandas as pd\n",
    "import numpy as np\n",
    "import matplotlib.pyplot as plt\n",
    "import seaborn as sns\n",
    "\n",
    "from scipy import stats\n",
    "from statsmodels.stats.outliers_influence import variance_inflation_factor\n",
    "from autoviz.classify_method import data_cleaning_suggestions ,data_suggestions\n",
    "\n",
    "from sklearn.model_selection import cross_val_score"
   ]
  },
  {
   "cell_type": "code",
   "execution_count": null,
   "id": "434fb16d",
   "metadata": {
    "execution": {
     "iopub.execute_input": "2023-03-06T07:12:21.562188Z",
     "iopub.status.busy": "2023-03-06T07:12:21.561426Z",
     "iopub.status.idle": "2023-03-06T07:12:21.599940Z",
     "shell.execute_reply": "2023-03-06T07:12:21.598902Z"
    },
    "papermill": {
     "duration": 0.162772,
     "end_time": "2023-03-06T07:12:21.602656",
     "exception": false,
     "start_time": "2023-03-06T07:12:21.439884",
     "status": "completed"
    },
    "tags": []
   },
   "outputs": [],
   "source": [
    "train = pd.read_csv('trainv.csv')\n",
    "test  = pd.read_csv('testv.csv')\n"
   ]
  },
  {
   "cell_type": "markdown",
   "id": "7617bee7",
   "metadata": {
    "papermill": {
     "duration": 0.114913,
     "end_time": "2023-03-06T07:12:21.826614",
     "exception": false,
     "start_time": "2023-03-06T07:12:21.711701",
     "status": "completed"
    },
    "tags": []
   },
   "source": [
    "# EDA"
   ]
  },
  {
   "cell_type": "code",
   "execution_count": null,
   "id": "b4b999ba",
   "metadata": {
    "execution": {
     "iopub.execute_input": "2023-03-06T07:12:22.060561Z",
     "iopub.status.busy": "2023-03-06T07:12:22.059059Z",
     "iopub.status.idle": "2023-03-06T07:12:22.095065Z",
     "shell.execute_reply": "2023-03-06T07:12:22.093742Z"
    },
    "papermill": {
     "duration": 0.155195,
     "end_time": "2023-03-06T07:12:22.097670",
     "exception": false,
     "start_time": "2023-03-06T07:12:21.942475",
     "status": "completed"
    },
    "tags": []
   },
   "outputs": [],
   "source": [
    "train.head()"
   ]
  },
  {
   "cell_type": "code",
   "execution_count": null,
   "id": "8791c8d1",
   "metadata": {
    "execution": {
     "iopub.execute_input": "2023-03-06T07:12:22.325389Z",
     "iopub.status.busy": "2023-03-06T07:12:22.324613Z",
     "iopub.status.idle": "2023-03-06T07:12:22.331604Z",
     "shell.execute_reply": "2023-03-06T07:12:22.330215Z"
    },
    "papermill": {
     "duration": 0.12687,
     "end_time": "2023-03-06T07:12:22.333950",
     "exception": false,
     "start_time": "2023-03-06T07:12:22.207080",
     "status": "completed"
    },
    "tags": []
   },
   "outputs": [],
   "source": [
    "train.shape"
   ]
  },
  {
   "cell_type": "code",
   "execution_count": null,
   "id": "06bce0cd",
   "metadata": {
    "execution": {
     "iopub.execute_input": "2023-03-06T07:12:22.562481Z",
     "iopub.status.busy": "2023-03-06T07:12:22.561064Z",
     "iopub.status.idle": "2023-03-06T07:12:22.570157Z",
     "shell.execute_reply": "2023-03-06T07:12:22.569187Z"
    },
    "papermill": {
     "duration": 0.128761,
     "end_time": "2023-03-06T07:12:22.572456",
     "exception": false,
     "start_time": "2023-03-06T07:12:22.443695",
     "status": "completed"
    },
    "tags": []
   },
   "outputs": [],
   "source": [
    "test.shape"
   ]
  },
  {
   "cell_type": "code",
   "execution_count": null,
   "id": "3052dc23",
   "metadata": {
    "execution": {
     "iopub.execute_input": "2023-03-06T07:12:22.799998Z",
     "iopub.status.busy": "2023-03-06T07:12:22.799190Z",
     "iopub.status.idle": "2023-03-06T07:12:22.975643Z",
     "shell.execute_reply": "2023-03-06T07:12:22.974122Z"
    },
    "papermill": {
     "duration": 0.296347,
     "end_time": "2023-03-06T07:12:22.978306",
     "exception": false,
     "start_time": "2023-03-06T07:12:22.681959",
     "status": "completed"
    },
    "tags": []
   },
   "outputs": [],
   "source": [
    "data_cleaning_suggestions(train)"
   ]
  },
  {
   "cell_type": "code",
   "execution_count": null,
   "id": "b60c3de3",
   "metadata": {
    "execution": {
     "iopub.execute_input": "2023-03-06T07:12:23.203359Z",
     "iopub.status.busy": "2023-03-06T07:12:23.202880Z",
     "iopub.status.idle": "2023-03-06T07:12:23.212521Z",
     "shell.execute_reply": "2023-03-06T07:12:23.211289Z"
    },
    "papermill": {
     "duration": 0.124291,
     "end_time": "2023-03-06T07:12:23.215070",
     "exception": false,
     "start_time": "2023-03-06T07:12:23.090779",
     "status": "completed"
    },
    "tags": []
   },
   "outputs": [],
   "source": [
    "# check which columns have missing values\n",
    "null_cols = train.columns[train.isnull().any()]\n",
    "null_cols\n",
    "\n",
    "# fill missing values with mean value for each column\n",
    "for col in null_cols:\n",
    "    if train[col].dtype != object:\n",
    "        train[col].fillna(train[col].mean(), inplace=True)"
   ]
  },
  {
   "cell_type": "code",
   "execution_count": null,
   "id": "921c71e5",
   "metadata": {
    "execution": {
     "iopub.execute_input": "2023-03-06T07:12:23.440527Z",
     "iopub.status.busy": "2023-03-06T07:12:23.438834Z",
     "iopub.status.idle": "2023-03-06T07:12:23.521070Z",
     "shell.execute_reply": "2023-03-06T07:12:23.519125Z"
    },
    "papermill": {
     "duration": 0.19724,
     "end_time": "2023-03-06T07:12:23.524776",
     "exception": false,
     "start_time": "2023-03-06T07:12:23.327536",
     "status": "completed"
    },
    "tags": []
   },
   "outputs": [],
   "source": [
    "data_cleaning_suggestions(train)"
   ]
  },
  {
   "cell_type": "code",
   "execution_count": null,
   "id": "8d90c573",
   "metadata": {
    "execution": {
     "iopub.execute_input": "2023-03-06T07:12:23.758618Z",
     "iopub.status.busy": "2023-03-06T07:12:23.757235Z",
     "iopub.status.idle": "2023-03-06T07:12:23.766215Z",
     "shell.execute_reply": "2023-03-06T07:12:23.764179Z"
    },
    "papermill": {
     "duration": 0.132803,
     "end_time": "2023-03-06T07:12:23.769743",
     "exception": false,
     "start_time": "2023-03-06T07:12:23.636940",
     "status": "completed"
    },
    "tags": []
   },
   "outputs": [],
   "source": [
    "train.fillna(0, inplace = True)"
   ]
  },
  {
   "cell_type": "code",
   "execution_count": null,
   "id": "ddaa6667",
   "metadata": {
    "execution": {
     "iopub.execute_input": "2023-03-06T07:12:23.996483Z",
     "iopub.status.busy": "2023-03-06T07:12:23.996008Z",
     "iopub.status.idle": "2023-03-06T07:12:24.080658Z",
     "shell.execute_reply": "2023-03-06T07:12:24.078849Z"
    },
    "papermill": {
     "duration": 0.200592,
     "end_time": "2023-03-06T07:12:24.084279",
     "exception": false,
     "start_time": "2023-03-06T07:12:23.883687",
     "status": "completed"
    },
    "tags": []
   },
   "outputs": [],
   "source": [
    "data_cleaning_suggestions(train)"
   ]
  },
  {
   "cell_type": "code",
   "execution_count": null,
   "id": "60e9992d",
   "metadata": {
    "execution": {
     "iopub.execute_input": "2023-03-06T07:12:24.307928Z",
     "iopub.status.busy": "2023-03-06T07:12:24.307477Z",
     "iopub.status.idle": "2023-03-06T07:12:24.314657Z",
     "shell.execute_reply": "2023-03-06T07:12:24.313726Z"
    },
    "papermill": {
     "duration": 0.122318,
     "end_time": "2023-03-06T07:12:24.317044",
     "exception": false,
     "start_time": "2023-03-06T07:12:24.194726",
     "status": "completed"
    },
    "tags": []
   },
   "outputs": [],
   "source": [
    "train.drop(['Name', 'PassengerId'], axis = 1, inplace = True)"
   ]
  },
  {
   "cell_type": "code",
   "execution_count": null,
   "id": "ab01600e",
   "metadata": {
    "execution": {
     "iopub.execute_input": "2023-03-06T07:12:24.541054Z",
     "iopub.status.busy": "2023-03-06T07:12:24.540385Z",
     "iopub.status.idle": "2023-03-06T07:12:24.620993Z",
     "shell.execute_reply": "2023-03-06T07:12:24.618902Z"
    },
    "papermill": {
     "duration": 0.197243,
     "end_time": "2023-03-06T07:12:24.624142",
     "exception": false,
     "start_time": "2023-03-06T07:12:24.426899",
     "status": "completed"
    },
    "tags": []
   },
   "outputs": [],
   "source": [
    "data_cleaning_suggestions(train)"
   ]
  },
  {
   "cell_type": "code",
   "execution_count": null,
   "id": "15e2e962",
   "metadata": {
    "execution": {
     "iopub.execute_input": "2023-03-06T07:12:24.858304Z",
     "iopub.status.busy": "2023-03-06T07:12:24.857193Z",
     "iopub.status.idle": "2023-03-06T07:12:24.866957Z",
     "shell.execute_reply": "2023-03-06T07:12:24.865534Z"
    },
    "papermill": {
     "duration": 0.134052,
     "end_time": "2023-03-06T07:12:24.869576",
     "exception": false,
     "start_time": "2023-03-06T07:12:24.735524",
     "status": "completed"
    },
    "tags": []
   },
   "outputs": [],
   "source": [
    "test.drop(['Name', 'PassengerId'], axis = 1, inplace = True)"
   ]
  },
  {
   "cell_type": "code",
   "execution_count": null,
   "id": "4ffaee93",
   "metadata": {
    "execution": {
     "iopub.execute_input": "2023-03-06T07:12:25.095240Z",
     "iopub.status.busy": "2023-03-06T07:12:25.094788Z",
     "iopub.status.idle": "2023-03-06T07:12:25.101959Z",
     "shell.execute_reply": "2023-03-06T07:12:25.100618Z"
    },
    "papermill": {
     "duration": 0.122704,
     "end_time": "2023-03-06T07:12:25.104435",
     "exception": false,
     "start_time": "2023-03-06T07:12:24.981731",
     "status": "completed"
    },
    "tags": []
   },
   "outputs": [],
   "source": [
    "train.shape"
   ]
  },
  {
   "cell_type": "code",
   "execution_count": null,
   "id": "f77b5960",
   "metadata": {
    "execution": {
     "iopub.execute_input": "2023-03-06T07:12:25.330504Z",
     "iopub.status.busy": "2023-03-06T07:12:25.329577Z",
     "iopub.status.idle": "2023-03-06T07:12:25.337473Z",
     "shell.execute_reply": "2023-03-06T07:12:25.336292Z"
    },
    "papermill": {
     "duration": 0.123654,
     "end_time": "2023-03-06T07:12:25.339991",
     "exception": false,
     "start_time": "2023-03-06T07:12:25.216337",
     "status": "completed"
    },
    "tags": []
   },
   "outputs": [],
   "source": [
    "test.shape"
   ]
  },
  {
   "cell_type": "code",
   "execution_count": null,
   "id": "3f145d6f",
   "metadata": {
    "execution": {
     "iopub.execute_input": "2023-03-06T07:12:25.565029Z",
     "iopub.status.busy": "2023-03-06T07:12:25.564345Z",
     "iopub.status.idle": "2023-03-06T07:12:25.593139Z",
     "shell.execute_reply": "2023-03-06T07:12:25.591569Z"
    },
    "papermill": {
     "duration": 0.143702,
     "end_time": "2023-03-06T07:12:25.595716",
     "exception": false,
     "start_time": "2023-03-06T07:12:25.452014",
     "status": "completed"
    },
    "tags": []
   },
   "outputs": [],
   "source": [
    "def detect_outliers(data):\n",
    "    outlier_percents = {}\n",
    "    for column in data.columns:\n",
    "        if data[column].dtype != object:\n",
    "            q1 = np.quantile(data[column], 0.25)\n",
    "            q3 = np.quantile(data[column], 0.75)\n",
    "            iqr = q3 - q1\n",
    "            upper_bound = q3 + (1.5 * iqr)\n",
    "            lower_bound = q1 - (1.5 * iqr)\n",
    "            outliers = data[(data[column] > upper_bound) | (data[column] < lower_bound)][column]\n",
    "            outlier_percentage = len(outliers) / len(data[column]) * 100\n",
    "            outlier_percents[column] = outlier_percentage\n",
    "            outlier_dataframe = pd.DataFrame(data = outlier_percents.values() ,index=outlier_percents.keys() ,columns=['Outlier_percentage'])\n",
    "    \n",
    "    return outlier_dataframe.sort_values(by = 'Outlier_percentage', ascending = False)\n",
    "\n",
    "detect_outliers(train)"
   ]
  },
  {
   "cell_type": "markdown",
   "id": "f9a4e772",
   "metadata": {
    "papermill": {
     "duration": 0.126098,
     "end_time": "2023-03-06T07:12:25.833811",
     "exception": false,
     "start_time": "2023-03-06T07:12:25.707713",
     "status": "completed"
    },
    "tags": []
   },
   "source": [
    "# Correlation Matrix"
   ]
  },
  {
   "cell_type": "code",
   "execution_count": null,
   "id": "42d17a74",
   "metadata": {
    "execution": {
     "iopub.execute_input": "2023-03-06T07:12:26.070246Z",
     "iopub.status.busy": "2023-03-06T07:12:26.068830Z",
     "iopub.status.idle": "2023-03-06T07:12:26.369252Z",
     "shell.execute_reply": "2023-03-06T07:12:26.367731Z"
    },
    "papermill": {
     "duration": 0.418151,
     "end_time": "2023-03-06T07:12:26.372236",
     "exception": false,
     "start_time": "2023-03-06T07:12:25.954085",
     "status": "completed"
    },
    "tags": []
   },
   "outputs": [],
   "source": [
    "plt.figure(figsize=(20,10))\n",
    "sns.heatmap(train.corr(),annot=True)"
   ]
  },
  {
   "cell_type": "code",
   "execution_count": null,
   "id": "50d16cd7",
   "metadata": {
    "execution": {
     "iopub.execute_input": "2023-03-06T07:12:26.610145Z",
     "iopub.status.busy": "2023-03-06T07:12:26.609630Z",
     "iopub.status.idle": "2023-03-06T07:12:31.081209Z",
     "shell.execute_reply": "2023-03-06T07:12:31.079505Z"
    },
    "papermill": {
     "duration": 4.60034,
     "end_time": "2023-03-06T07:12:31.085305",
     "exception": false,
     "start_time": "2023-03-06T07:12:26.484965",
     "status": "completed"
    },
    "tags": []
   },
   "outputs": [],
   "source": [
    "def plots(df, variable):\n",
    "  if df[variable].dtype != object:\n",
    "    # define figure size\n",
    "    fig, ax = plt.subplots(1, 5, figsize=(24, 4))\n",
    "    \n",
    "    # histogram\n",
    "    sns.histplot(df[variable], bins=30, kde=True, ax=ax[0])\n",
    "    ax[0].set_title('Histogram')\n",
    "    \n",
    "    # KDE plot\n",
    "    sns.kdeplot(df[variable], ax=ax[1])\n",
    "    ax[1].set_title('KDE Plot')\n",
    "    \n",
    "    # boxplot\n",
    "    sns.boxplot(y=df[variable], ax=ax[3])\n",
    "    ax[3].set_title('Boxplot')\n",
    "    \n",
    "    # scatterplot\n",
    "    sns.scatterplot(x=df.index, y=df[variable], ax=ax[4])\n",
    "    ax[4].set_title('Scatterplot')\n",
    "    \n",
    "    plt.tight_layout()\n",
    "    plt.show()\n",
    "\n",
    "for i in train.columns:\n",
    "    plots(train ,i)"
   ]
  },
  {
   "cell_type": "code",
   "execution_count": null,
   "id": "58612d6e",
   "metadata": {
    "execution": {
     "iopub.execute_input": "2023-03-06T07:12:31.311124Z",
     "iopub.status.busy": "2023-03-06T07:12:31.310228Z",
     "iopub.status.idle": "2023-03-06T07:12:31.322040Z",
     "shell.execute_reply": "2023-03-06T07:12:31.320907Z"
    },
    "papermill": {
     "duration": 0.127679,
     "end_time": "2023-03-06T07:12:31.324547",
     "exception": false,
     "start_time": "2023-03-06T07:12:31.196868",
     "status": "completed"
    },
    "tags": []
   },
   "outputs": [],
   "source": [
    "from sklearn.preprocessing import LabelEncoder\n",
    "# handle categorical features\n",
    "le = LabelEncoder()\n",
    "train[\"Sex\"] = le.fit_transform(train[\"Sex\"])\n",
    "train.Sex"
   ]
  },
  {
   "cell_type": "markdown",
   "id": "143797eb",
   "metadata": {
    "papermill": {
     "duration": 0.111844,
     "end_time": "2023-03-06T07:12:31.547545",
     "exception": false,
     "start_time": "2023-03-06T07:12:31.435701",
     "status": "completed"
    },
    "tags": []
   },
   "source": [
    "# ML Model"
   ]
  },
  {
   "cell_type": "code",
   "execution_count": null,
   "id": "fe92e59e",
   "metadata": {
    "execution": {
     "iopub.execute_input": "2023-03-06T07:12:31.788844Z",
     "iopub.status.busy": "2023-03-06T07:12:31.787752Z",
     "iopub.status.idle": "2023-03-06T07:12:31.799189Z",
     "shell.execute_reply": "2023-03-06T07:12:31.797623Z"
    },
    "papermill": {
     "duration": 0.141032,
     "end_time": "2023-03-06T07:12:31.802884",
     "exception": false,
     "start_time": "2023-03-06T07:12:31.661852",
     "status": "completed"
    },
    "tags": []
   },
   "outputs": [],
   "source": [
    "train.columns"
   ]
  },
  {
   "cell_type": "code",
   "execution_count": null,
   "id": "4457cf31",
   "metadata": {
    "execution": {
     "iopub.execute_input": "2023-03-06T07:12:32.067175Z",
     "iopub.status.busy": "2023-03-06T07:12:32.066248Z",
     "iopub.status.idle": "2023-03-06T07:12:32.080511Z",
     "shell.execute_reply": "2023-03-06T07:12:32.079078Z"
    },
    "papermill": {
     "duration": 0.142289,
     "end_time": "2023-03-06T07:12:32.084156",
     "exception": false,
     "start_time": "2023-03-06T07:12:31.941867",
     "status": "completed"
    },
    "tags": []
   },
   "outputs": [],
   "source": [
    "X = train.drop('Survived', axis = 1)\n",
    "y = train['Survived']"
   ]
  },
  {
   "cell_type": "code",
   "execution_count": null,
   "id": "f97057f4",
   "metadata": {
    "execution": {
     "iopub.execute_input": "2023-03-06T07:12:32.329554Z",
     "iopub.status.busy": "2023-03-06T07:12:32.327622Z",
     "iopub.status.idle": "2023-03-06T07:12:32.678038Z",
     "shell.execute_reply": "2023-03-06T07:12:32.676789Z"
    },
    "papermill": {
     "duration": 0.466653,
     "end_time": "2023-03-06T07:12:32.681156",
     "exception": false,
     "start_time": "2023-03-06T07:12:32.214503",
     "status": "completed"
    },
    "tags": []
   },
   "outputs": [],
   "source": [
    "import category_encoders as ce\n",
    "target_encoder = ce.TargetEncoder()\n",
    "X = target_encoder.fit_transform(X, y)"
   ]
  },
  {
   "cell_type": "code",
   "execution_count": null,
   "id": "ef0d1b19",
   "metadata": {
    "execution": {
     "iopub.execute_input": "2023-03-06T07:12:32.913527Z",
     "iopub.status.busy": "2023-03-06T07:12:32.912664Z",
     "iopub.status.idle": "2023-03-06T07:12:39.771753Z",
     "shell.execute_reply": "2023-03-06T07:12:39.769843Z"
    },
    "papermill": {
     "duration": 6.981609,
     "end_time": "2023-03-06T07:12:39.775182",
     "exception": false,
     "start_time": "2023-03-06T07:12:32.793573",
     "status": "completed"
    },
    "tags": []
   },
   "outputs": [],
   "source": [
    "from pycaret.classification import *"
   ]
  },
  {
   "cell_type": "code",
   "execution_count": null,
   "id": "01d1fa9a",
   "metadata": {
    "execution": {
     "iopub.execute_input": "2023-03-06T07:12:40.006846Z",
     "iopub.status.busy": "2023-03-06T07:12:40.005668Z",
     "iopub.status.idle": "2023-03-06T07:12:42.564632Z",
     "shell.execute_reply": "2023-03-06T07:12:42.563217Z"
    },
    "papermill": {
     "duration": 2.679271,
     "end_time": "2023-03-06T07:12:42.567896",
     "exception": false,
     "start_time": "2023-03-06T07:12:39.888625",
     "status": "completed"
    },
    "tags": []
   },
   "outputs": [],
   "source": [
    "setup(data = train,  target = 'Survived')"
   ]
  },
  {
   "cell_type": "code",
   "execution_count": null,
   "id": "05158ced",
   "metadata": {
    "execution": {
     "iopub.execute_input": "2023-03-06T07:12:42.794963Z",
     "iopub.status.busy": "2023-03-06T07:12:42.794028Z",
     "iopub.status.idle": "2023-03-06T07:13:54.879863Z",
     "shell.execute_reply": "2023-03-06T07:13:54.878249Z"
    },
    "papermill": {
     "duration": 72.202622,
     "end_time": "2023-03-06T07:13:54.883843",
     "exception": false,
     "start_time": "2023-03-06T07:12:42.681221",
     "status": "completed"
    },
    "tags": []
   },
   "outputs": [],
   "source": [
    "compare_models()"
   ]
  },
  {
   "cell_type": "code",
   "execution_count": null,
   "id": "de640353",
   "metadata": {
    "execution": {
     "iopub.execute_input": "2023-03-06T07:13:55.155454Z",
     "iopub.status.busy": "2023-03-06T07:13:55.154846Z",
     "iopub.status.idle": "2023-03-06T07:13:59.154362Z",
     "shell.execute_reply": "2023-03-06T07:13:59.152352Z"
    },
    "papermill": {
     "duration": 4.140053,
     "end_time": "2023-03-06T07:13:59.157282",
     "exception": false,
     "start_time": "2023-03-06T07:13:55.017229",
     "status": "completed"
    },
    "tags": []
   },
   "outputs": [],
   "source": [
    "lda = create_model('lda')"
   ]
  },
  {
   "cell_type": "code",
   "execution_count": null,
   "id": "cae57dc5",
   "metadata": {
    "execution": {
     "iopub.execute_input": "2023-03-06T07:13:59.397270Z",
     "iopub.status.busy": "2023-03-06T07:13:59.396831Z",
     "iopub.status.idle": "2023-03-06T07:14:00.103495Z",
     "shell.execute_reply": "2023-03-06T07:14:00.101955Z"
    },
    "papermill": {
     "duration": 0.829779,
     "end_time": "2023-03-06T07:14:00.107141",
     "exception": false,
     "start_time": "2023-03-06T07:13:59.277362",
     "status": "completed"
    },
    "tags": []
   },
   "outputs": [],
   "source": [
    "evaluate_model(lda)"
   ]
  },
  {
   "cell_type": "code",
   "execution_count": null,
   "id": "b5fff700",
   "metadata": {
    "execution": {
     "iopub.execute_input": "2023-03-06T07:14:00.371762Z",
     "iopub.status.busy": "2023-03-06T07:14:00.370931Z",
     "iopub.status.idle": "2023-03-06T07:14:00.380767Z",
     "shell.execute_reply": "2023-03-06T07:14:00.379489Z"
    },
    "papermill": {
     "duration": 0.13986,
     "end_time": "2023-03-06T07:14:00.383586",
     "exception": false,
     "start_time": "2023-03-06T07:14:00.243726",
     "status": "completed"
    },
    "tags": []
   },
   "outputs": [],
   "source": [
    "data = train.sample(frac=0.9, random_state=786).reset_index(drop=True)\n",
    "data_unseen = train.drop(data.index).reset_index(drop=True)\n",
    "\n",
    "print('Data for Modeling: ' + str(data.shape))\n",
    "print('Unseen Data For Predictions: ' + str(data_unseen.shape))"
   ]
  },
  {
   "cell_type": "code",
   "execution_count": null,
   "id": "4d25697a",
   "metadata": {
    "execution": {
     "iopub.execute_input": "2023-03-06T07:14:00.625539Z",
     "iopub.status.busy": "2023-03-06T07:14:00.624807Z",
     "iopub.status.idle": "2023-03-06T07:14:01.130214Z",
     "shell.execute_reply": "2023-03-06T07:14:01.128882Z"
    },
    "papermill": {
     "duration": 0.629646,
     "end_time": "2023-03-06T07:14:01.132883",
     "exception": false,
     "start_time": "2023-03-06T07:14:00.503237",
     "status": "completed"
    },
    "tags": []
   },
   "outputs": [],
   "source": [
    "predict_model(lda)"
   ]
  },
  {
   "cell_type": "code",
   "execution_count": null,
   "id": "0b184220",
   "metadata": {
    "execution": {
     "iopub.execute_input": "2023-03-06T07:14:01.378789Z",
     "iopub.status.busy": "2023-03-06T07:14:01.377365Z",
     "iopub.status.idle": "2023-03-06T07:14:01.829734Z",
     "shell.execute_reply": "2023-03-06T07:14:01.828576Z"
    },
    "papermill": {
     "duration": 0.579803,
     "end_time": "2023-03-06T07:14:01.832780",
     "exception": false,
     "start_time": "2023-03-06T07:14:01.252977",
     "status": "completed"
    },
    "tags": []
   },
   "outputs": [],
   "source": [
    "unseen_predictions = predict_model(lda, data=data_unseen)\n",
    "unseen_predictions.head()"
   ]
  },
  {
   "cell_type": "code",
   "execution_count": null,
   "id": "3a1c2f66",
   "metadata": {
    "execution": {
     "iopub.execute_input": "2023-03-06T07:14:02.081758Z",
     "iopub.status.busy": "2023-03-06T07:14:02.080993Z",
     "iopub.status.idle": "2023-03-06T07:14:02.091390Z",
     "shell.execute_reply": "2023-03-06T07:14:02.089858Z"
    },
    "papermill": {
     "duration": 0.137621,
     "end_time": "2023-03-06T07:14:02.094156",
     "exception": false,
     "start_time": "2023-03-06T07:14:01.956535",
     "status": "completed"
    },
    "tags": []
   },
   "outputs": [],
   "source": [
    "from sklearn.preprocessing import LabelEncoder\n",
    "# handle categorical features\n",
    "le = LabelEncoder()\n",
    "test[\"Sex\"] = le.fit_transform(test[\"Sex\"])\n",
    "test.Sex"
   ]
  },
  {
   "cell_type": "code",
   "execution_count": null,
   "id": "1279b2f1",
   "metadata": {
    "execution": {
     "iopub.execute_input": "2023-03-06T07:14:02.342194Z",
     "iopub.status.busy": "2023-03-06T07:14:02.341239Z",
     "iopub.status.idle": "2023-03-06T07:14:02.484036Z",
     "shell.execute_reply": "2023-03-06T07:14:02.482241Z"
    },
    "papermill": {
     "duration": 0.270946,
     "end_time": "2023-03-06T07:14:02.486952",
     "exception": false,
     "start_time": "2023-03-06T07:14:02.216006",
     "status": "completed"
    },
    "tags": []
   },
   "outputs": [],
   "source": [
    "from sklearn.model_selection import cross_val_score\n",
    "# Evaluate the ensemble model using cross-validation\n",
    "scores = cross_val_score(lda, X, y, cv=20)"
   ]
  },
  {
   "cell_type": "code",
   "execution_count": null,
   "id": "ffa7986e",
   "metadata": {
    "execution": {
     "iopub.execute_input": "2023-03-06T07:14:02.750233Z",
     "iopub.status.busy": "2023-03-06T07:14:02.748729Z",
     "iopub.status.idle": "2023-03-06T07:14:03.250449Z",
     "shell.execute_reply": "2023-03-06T07:14:03.248959Z"
    },
    "papermill": {
     "duration": 0.645874,
     "end_time": "2023-03-06T07:14:03.253717",
     "exception": false,
     "start_time": "2023-03-06T07:14:02.607843",
     "status": "completed"
    },
    "tags": []
   },
   "outputs": [],
   "source": [
    "predict_model(lda)"
   ]
  },
  {
   "cell_type": "code",
   "execution_count": null,
   "id": "71ae0485",
   "metadata": {
    "execution": {
     "iopub.execute_input": "2023-03-06T07:14:03.502914Z",
     "iopub.status.busy": "2023-03-06T07:14:03.501631Z",
     "iopub.status.idle": "2023-03-06T07:14:03.942842Z",
     "shell.execute_reply": "2023-03-06T07:14:03.941490Z"
    },
    "papermill": {
     "duration": 0.568831,
     "end_time": "2023-03-06T07:14:03.945896",
     "exception": false,
     "start_time": "2023-03-06T07:14:03.377065",
     "status": "completed"
    },
    "tags": []
   },
   "outputs": [],
   "source": [
    "preds = predict_model(lda, data=test)"
   ]
  },
  {
   "cell_type": "code",
   "execution_count": null,
   "id": "5456ccff",
   "metadata": {
    "execution": {
     "iopub.execute_input": "2023-03-06T07:14:04.192619Z",
     "iopub.status.busy": "2023-03-06T07:14:04.191869Z",
     "iopub.status.idle": "2023-03-06T07:14:04.199207Z",
     "shell.execute_reply": "2023-03-06T07:14:04.198155Z"
    },
    "papermill": {
     "duration": 0.132198,
     "end_time": "2023-03-06T07:14:04.201536",
     "exception": false,
     "start_time": "2023-03-06T07:14:04.069338",
     "status": "completed"
    },
    "tags": []
   },
   "outputs": [],
   "source": [
    "preds.shape"
   ]
  },
  {
   "cell_type": "code",
   "execution_count": null,
   "id": "5ea7b426",
   "metadata": {
    "execution": {
     "iopub.execute_input": "2023-03-06T07:14:04.445036Z",
     "iopub.status.busy": "2023-03-06T07:14:04.444341Z",
     "iopub.status.idle": "2023-03-06T07:14:04.471433Z",
     "shell.execute_reply": "2023-03-06T07:14:04.470094Z"
    },
    "papermill": {
     "duration": 0.152656,
     "end_time": "2023-03-06T07:14:04.473881",
     "exception": false,
     "start_time": "2023-03-06T07:14:04.321225",
     "status": "completed"
    },
    "tags": []
   },
   "outputs": [],
   "source": [
    "preds"
   ]
  },
  {
   "cell_type": "code",
   "execution_count": null,
   "id": "03dc2eca",
   "metadata": {
    "execution": {
     "iopub.execute_input": "2023-03-06T07:14:04.721668Z",
     "iopub.status.busy": "2023-03-06T07:14:04.720956Z",
     "iopub.status.idle": "2023-03-06T07:14:04.738019Z",
     "shell.execute_reply": "2023-03-06T07:14:04.736672Z"
    },
    "papermill": {
     "duration": 0.145893,
     "end_time": "2023-03-06T07:14:04.740586",
     "exception": false,
     "start_time": "2023-03-06T07:14:04.594693",
     "status": "completed"
    },
    "tags": []
   },
   "outputs": [],
   "source": [
    "sub = pd.read_csv('/kaggle/input/titanic/gender_submission.csv')\n",
    "sub.shape"
   ]
  },
  {
   "cell_type": "code",
   "execution_count": null,
   "id": "9720d4e3",
   "metadata": {
    "execution": {
     "iopub.execute_input": "2023-03-06T07:14:05.017684Z",
     "iopub.status.busy": "2023-03-06T07:14:05.016153Z",
     "iopub.status.idle": "2023-03-06T07:14:05.025520Z",
     "shell.execute_reply": "2023-03-06T07:14:05.024425Z"
    },
    "papermill": {
     "duration": 0.138953,
     "end_time": "2023-03-06T07:14:05.028251",
     "exception": false,
     "start_time": "2023-03-06T07:14:04.889298",
     "status": "completed"
    },
    "tags": []
   },
   "outputs": [],
   "source": [
    "sub.drop('Survived', axis = 1, inplace = True)\n",
    "# Separate column from source dataset\n",
    "column_to_move = preds.pop('prediction_label')"
   ]
  },
  {
   "cell_type": "code",
   "execution_count": null,
   "id": "afd2e349",
   "metadata": {
    "execution": {
     "iopub.execute_input": "2023-03-06T07:14:05.282280Z",
     "iopub.status.busy": "2023-03-06T07:14:05.280921Z",
     "iopub.status.idle": "2023-03-06T07:14:05.288306Z",
     "shell.execute_reply": "2023-03-06T07:14:05.286637Z"
    },
    "papermill": {
     "duration": 0.137698,
     "end_time": "2023-03-06T07:14:05.291949",
     "exception": false,
     "start_time": "2023-03-06T07:14:05.154251",
     "status": "completed"
    },
    "tags": []
   },
   "outputs": [],
   "source": [
    "# Add column to destination dataset\n",
    "sub['Survived'] = column_to_move"
   ]
  },
  {
   "cell_type": "code",
   "execution_count": null,
   "id": "b246665e",
   "metadata": {
    "execution": {
     "iopub.execute_input": "2023-03-06T07:14:05.541144Z",
     "iopub.status.busy": "2023-03-06T07:14:05.539827Z",
     "iopub.status.idle": "2023-03-06T07:14:05.598856Z",
     "shell.execute_reply": "2023-03-06T07:14:05.597535Z"
    },
    "papermill": {
     "duration": 0.18642,
     "end_time": "2023-03-06T07:14:05.601612",
     "exception": false,
     "start_time": "2023-03-06T07:14:05.415192",
     "status": "completed"
    },
    "tags": []
   },
   "outputs": [],
   "source": [
    "sub.to_csv('submission.csv' ,index = False)\n",
    "sub = pd.read_csv('/kaggle/working/submission.csv')\n",
    "sub"
   ]
  },
  {
   "cell_type": "markdown",
   "id": "2f57b5b8",
   "metadata": {
    "papermill": {
     "duration": 0.135668,
     "end_time": "2023-03-06T07:14:05.860362",
     "exception": false,
     "start_time": "2023-03-06T07:14:05.724694",
     "status": "completed"
    },
    "tags": []
   },
   "source": [
    "# Thank You\n",
    "___"
   ]
  }
 ],
 "metadata": {
  "kernelspec": {
   "display_name": "Python 3 (ipykernel)",
   "language": "python",
   "name": "python3"
  },
  "language_info": {
   "codemirror_mode": {
    "name": "ipython",
    "version": 3
   },
   "file_extension": ".py",
   "mimetype": "text/x-python",
   "name": "python",
   "nbconvert_exporter": "python",
   "pygments_lexer": "ipython3",
   "version": "3.9.13"
  },
  "papermill": {
   "default_parameters": {},
   "duration": 211.809034,
   "end_time": "2023-03-06T07:14:08.609789",
   "environment_variables": {},
   "exception": null,
   "input_path": "__notebook__.ipynb",
   "output_path": "__notebook__.ipynb",
   "parameters": {},
   "start_time": "2023-03-06T07:10:36.800755",
   "version": "2.4.0"
  },
  "widgets": {
   "application/vnd.jupyter.widget-state+json": {
    "state": {
     "018939d3a43140daa45f4e576c747c70": {
      "model_module": "@jupyter-widgets/controls",
      "model_module_version": "1.5.0",
      "model_name": "ProgressStyleModel",
      "state": {
       "_model_module": "@jupyter-widgets/controls",
       "_model_module_version": "1.5.0",
       "_model_name": "ProgressStyleModel",
       "_view_count": null,
       "_view_module": "@jupyter-widgets/base",
       "_view_module_version": "1.2.0",
       "_view_name": "StyleView",
       "bar_color": null,
       "description_width": ""
      }
     },
     "04647dc35078455fadcd5dc49d7d608c": {
      "model_module": "@jupyter-widgets/controls",
      "model_module_version": "1.5.0",
      "model_name": "ToggleButtonsModel",
      "state": {
       "_dom_classes": [],
       "_model_module": "@jupyter-widgets/controls",
       "_model_module_version": "1.5.0",
       "_model_name": "ToggleButtonsModel",
       "_options_labels": [
        "Pipeline Plot",
        "Hyperparameters",
        "AUC",
        "Confusion Matrix",
        "Threshold",
        "Precision Recall",
        "Prediction Error",
        "Class Report",
        "Feature Selection",
        "Learning Curve",
        "Manifold Learning",
        "Calibration Curve",
        "Validation Curve",
        "Dimensions",
        "Feature Importance",
        "Feature Importance (All)",
        "Decision Boundary",
        "Lift Chart",
        "Gain Chart",
        "Decision Tree",
        "KS Statistic Plot"
       ],
       "_view_count": null,
       "_view_module": "@jupyter-widgets/controls",
       "_view_module_version": "1.5.0",
       "_view_name": "ToggleButtonsView",
       "button_style": "",
       "description": "Plot Type:",
       "description_tooltip": null,
       "disabled": false,
       "icons": [
        ""
       ],
       "index": 0,
       "layout": "IPY_MODEL_e434a300569f417aa4b0128b7bec6fbc",
       "style": "IPY_MODEL_8ad9e8eab4ea4e698c63418bf29390ee",
       "tooltips": []
      }
     },
     "07cbf3c747be4c5d9b8e7cb8065ca1cf": {
      "model_module": "@jupyter-widgets/base",
      "model_module_version": "1.2.0",
      "model_name": "LayoutModel",
      "state": {
       "_model_module": "@jupyter-widgets/base",
       "_model_module_version": "1.2.0",
       "_model_name": "LayoutModel",
       "_view_count": null,
       "_view_module": "@jupyter-widgets/base",
       "_view_module_version": "1.2.0",
       "_view_name": "LayoutView",
       "align_content": null,
       "align_items": null,
       "align_self": null,
       "border": null,
       "bottom": null,
       "display": null,
       "flex": null,
       "flex_flow": null,
       "grid_area": null,
       "grid_auto_columns": null,
       "grid_auto_flow": null,
       "grid_auto_rows": null,
       "grid_column": null,
       "grid_gap": null,
       "grid_row": null,
       "grid_template_areas": null,
       "grid_template_columns": null,
       "grid_template_rows": null,
       "height": null,
       "justify_content": null,
       "justify_items": null,
       "left": null,
       "margin": null,
       "max_height": null,
       "max_width": null,
       "min_height": null,
       "min_width": null,
       "object_fit": null,
       "object_position": null,
       "order": null,
       "overflow": null,
       "overflow_x": null,
       "overflow_y": null,
       "padding": null,
       "right": null,
       "top": null,
       "visibility": null,
       "width": null
      }
     },
     "0d3be96ba9054ca985140451d402e9dc": {
      "model_module": "@jupyter-widgets/controls",
      "model_module_version": "1.5.0",
      "model_name": "DescriptionStyleModel",
      "state": {
       "_model_module": "@jupyter-widgets/controls",
       "_model_module_version": "1.5.0",
       "_model_name": "DescriptionStyleModel",
       "_view_count": null,
       "_view_module": "@jupyter-widgets/base",
       "_view_module_version": "1.2.0",
       "_view_name": "StyleView",
       "description_width": ""
      }
     },
     "1515a13a468b40a5ba00c8132e8c44e9": {
      "model_module": "@jupyter-widgets/controls",
      "model_module_version": "1.5.0",
      "model_name": "HTMLModel",
      "state": {
       "_dom_classes": [],
       "_model_module": "@jupyter-widgets/controls",
       "_model_module_version": "1.5.0",
       "_model_name": "HTMLModel",
       "_view_count": null,
       "_view_module": "@jupyter-widgets/controls",
       "_view_module_version": "1.5.0",
       "_view_name": "HTMLView",
       "description": "",
       "description_tooltip": null,
       "layout": "IPY_MODEL_6f0a13259237403fbe50376cb24d5a1f",
       "placeholder": "​",
       "style": "IPY_MODEL_16f76eed283c4adeb68155abaae19c85",
       "value": "Processing: 100%"
      }
     },
     "16f76eed283c4adeb68155abaae19c85": {
      "model_module": "@jupyter-widgets/controls",
      "model_module_version": "1.5.0",
      "model_name": "DescriptionStyleModel",
      "state": {
       "_model_module": "@jupyter-widgets/controls",
       "_model_module_version": "1.5.0",
       "_model_name": "DescriptionStyleModel",
       "_view_count": null,
       "_view_module": "@jupyter-widgets/base",
       "_view_module_version": "1.2.0",
       "_view_name": "StyleView",
       "description_width": ""
      }
     },
     "191141ec41ab4d9b86b8c2f0577b9fd7": {
      "model_module": "@jupyter-widgets/base",
      "model_module_version": "1.2.0",
      "model_name": "LayoutModel",
      "state": {
       "_model_module": "@jupyter-widgets/base",
       "_model_module_version": "1.2.0",
       "_model_name": "LayoutModel",
       "_view_count": null,
       "_view_module": "@jupyter-widgets/base",
       "_view_module_version": "1.2.0",
       "_view_name": "LayoutView",
       "align_content": null,
       "align_items": null,
       "align_self": null,
       "border": null,
       "bottom": null,
       "display": null,
       "flex": null,
       "flex_flow": null,
       "grid_area": null,
       "grid_auto_columns": null,
       "grid_auto_flow": null,
       "grid_auto_rows": null,
       "grid_column": null,
       "grid_gap": null,
       "grid_row": null,
       "grid_template_areas": null,
       "grid_template_columns": null,
       "grid_template_rows": null,
       "height": null,
       "justify_content": null,
       "justify_items": null,
       "left": null,
       "margin": null,
       "max_height": null,
       "max_width": null,
       "min_height": null,
       "min_width": null,
       "object_fit": null,
       "object_position": null,
       "order": null,
       "overflow": null,
       "overflow_x": null,
       "overflow_y": null,
       "padding": null,
       "right": null,
       "top": null,
       "visibility": "hidden",
       "width": null
      }
     },
     "1e67e31f41434cc298d2b139cb37ce3b": {
      "model_module": "@jupyter-widgets/base",
      "model_module_version": "1.2.0",
      "model_name": "LayoutModel",
      "state": {
       "_model_module": "@jupyter-widgets/base",
       "_model_module_version": "1.2.0",
       "_model_name": "LayoutModel",
       "_view_count": null,
       "_view_module": "@jupyter-widgets/base",
       "_view_module_version": "1.2.0",
       "_view_name": "LayoutView",
       "align_content": null,
       "align_items": null,
       "align_self": null,
       "border": null,
       "bottom": null,
       "display": null,
       "flex": null,
       "flex_flow": null,
       "grid_area": null,
       "grid_auto_columns": null,
       "grid_auto_flow": null,
       "grid_auto_rows": null,
       "grid_column": null,
       "grid_gap": null,
       "grid_row": null,
       "grid_template_areas": null,
       "grid_template_columns": null,
       "grid_template_rows": null,
       "height": null,
       "justify_content": null,
       "justify_items": null,
       "left": null,
       "margin": null,
       "max_height": null,
       "max_width": null,
       "min_height": null,
       "min_width": null,
       "object_fit": null,
       "object_position": null,
       "order": null,
       "overflow": null,
       "overflow_x": null,
       "overflow_y": null,
       "padding": null,
       "right": null,
       "top": null,
       "visibility": null,
       "width": null
      }
     },
     "263989b5df2640bb97befb3a1394c16d": {
      "model_module": "@jupyter-widgets/base",
      "model_module_version": "1.2.0",
      "model_name": "LayoutModel",
      "state": {
       "_model_module": "@jupyter-widgets/base",
       "_model_module_version": "1.2.0",
       "_model_name": "LayoutModel",
       "_view_count": null,
       "_view_module": "@jupyter-widgets/base",
       "_view_module_version": "1.2.0",
       "_view_name": "LayoutView",
       "align_content": null,
       "align_items": null,
       "align_self": null,
       "border": null,
       "bottom": null,
       "display": null,
       "flex": null,
       "flex_flow": null,
       "grid_area": null,
       "grid_auto_columns": null,
       "grid_auto_flow": null,
       "grid_auto_rows": null,
       "grid_column": null,
       "grid_gap": null,
       "grid_row": null,
       "grid_template_areas": null,
       "grid_template_columns": null,
       "grid_template_rows": null,
       "height": null,
       "justify_content": null,
       "justify_items": null,
       "left": null,
       "margin": null,
       "max_height": null,
       "max_width": null,
       "min_height": null,
       "min_width": null,
       "object_fit": null,
       "object_position": null,
       "order": null,
       "overflow": null,
       "overflow_x": null,
       "overflow_y": null,
       "padding": null,
       "right": null,
       "top": null,
       "visibility": "hidden",
       "width": null
      }
     },
     "2785b4573bf74b8bb36f9f40f50eceb4": {
      "model_module": "@jupyter-widgets/controls",
      "model_module_version": "1.5.0",
      "model_name": "HTMLModel",
      "state": {
       "_dom_classes": [],
       "_model_module": "@jupyter-widgets/controls",
       "_model_module_version": "1.5.0",
       "_model_name": "HTMLModel",
       "_view_count": null,
       "_view_module": "@jupyter-widgets/controls",
       "_view_module_version": "1.5.0",
       "_view_name": "HTMLView",
       "description": "",
       "description_tooltip": null,
       "layout": "IPY_MODEL_1e67e31f41434cc298d2b139cb37ce3b",
       "placeholder": "​",
       "style": "IPY_MODEL_af8429ae7f28493b9b3def5dbb03719e",
       "value": " 4/4 [00:03&lt;00:00,  1.19it/s]"
      }
     },
     "2cbd5c5f9f624e9087befea8cff07390": {
      "model_module": "@jupyter-widgets/controls",
      "model_module_version": "1.5.0",
      "model_name": "HBoxModel",
      "state": {
       "_dom_classes": [],
       "_model_module": "@jupyter-widgets/controls",
       "_model_module_version": "1.5.0",
       "_model_name": "HBoxModel",
       "_view_count": null,
       "_view_module": "@jupyter-widgets/controls",
       "_view_module_version": "1.5.0",
       "_view_name": "HBoxView",
       "box_style": "",
       "children": [
        "IPY_MODEL_1515a13a468b40a5ba00c8132e8c44e9",
        "IPY_MODEL_a090d2097d14448cb10c6aa31d08dc5d",
        "IPY_MODEL_2785b4573bf74b8bb36f9f40f50eceb4"
       ],
       "layout": "IPY_MODEL_263989b5df2640bb97befb3a1394c16d"
      }
     },
     "3e45607d51344542b2942c24df19bc35": {
      "model_module": "@jupyter-widgets/base",
      "model_module_version": "1.2.0",
      "model_name": "LayoutModel",
      "state": {
       "_model_module": "@jupyter-widgets/base",
       "_model_module_version": "1.2.0",
       "_model_name": "LayoutModel",
       "_view_count": null,
       "_view_module": "@jupyter-widgets/base",
       "_view_module_version": "1.2.0",
       "_view_name": "LayoutView",
       "align_content": null,
       "align_items": null,
       "align_self": null,
       "border": null,
       "bottom": null,
       "display": null,
       "flex": null,
       "flex_flow": null,
       "grid_area": null,
       "grid_auto_columns": null,
       "grid_auto_flow": null,
       "grid_auto_rows": null,
       "grid_column": null,
       "grid_gap": null,
       "grid_row": null,
       "grid_template_areas": null,
       "grid_template_columns": null,
       "grid_template_rows": null,
       "height": null,
       "justify_content": null,
       "justify_items": null,
       "left": null,
       "margin": null,
       "max_height": null,
       "max_width": null,
       "min_height": null,
       "min_width": null,
       "object_fit": null,
       "object_position": null,
       "order": null,
       "overflow": null,
       "overflow_x": null,
       "overflow_y": null,
       "padding": null,
       "right": null,
       "top": null,
       "visibility": null,
       "width": null
      }
     },
     "5548ebb447fb4fcaa700134041e7a423": {
      "model_module": "@jupyter-widgets/base",
      "model_module_version": "1.2.0",
      "model_name": "LayoutModel",
      "state": {
       "_model_module": "@jupyter-widgets/base",
       "_model_module_version": "1.2.0",
       "_model_name": "LayoutModel",
       "_view_count": null,
       "_view_module": "@jupyter-widgets/base",
       "_view_module_version": "1.2.0",
       "_view_name": "LayoutView",
       "align_content": null,
       "align_items": null,
       "align_self": null,
       "border": null,
       "bottom": null,
       "display": null,
       "flex": null,
       "flex_flow": null,
       "grid_area": null,
       "grid_auto_columns": null,
       "grid_auto_flow": null,
       "grid_auto_rows": null,
       "grid_column": null,
       "grid_gap": null,
       "grid_row": null,
       "grid_template_areas": null,
       "grid_template_columns": null,
       "grid_template_rows": null,
       "height": null,
       "justify_content": null,
       "justify_items": null,
       "left": null,
       "margin": null,
       "max_height": null,
       "max_width": null,
       "min_height": null,
       "min_width": null,
       "object_fit": null,
       "object_position": null,
       "order": null,
       "overflow": null,
       "overflow_x": null,
       "overflow_y": null,
       "padding": null,
       "right": null,
       "top": null,
       "visibility": null,
       "width": null
      }
     },
     "585c85b684734fb18e07a38a7cb2447d": {
      "model_module": "@jupyter-widgets/base",
      "model_module_version": "1.2.0",
      "model_name": "LayoutModel",
      "state": {
       "_model_module": "@jupyter-widgets/base",
       "_model_module_version": "1.2.0",
       "_model_name": "LayoutModel",
       "_view_count": null,
       "_view_module": "@jupyter-widgets/base",
       "_view_module_version": "1.2.0",
       "_view_name": "LayoutView",
       "align_content": null,
       "align_items": null,
       "align_self": null,
       "border": null,
       "bottom": null,
       "display": null,
       "flex": null,
       "flex_flow": null,
       "grid_area": null,
       "grid_auto_columns": null,
       "grid_auto_flow": null,
       "grid_auto_rows": null,
       "grid_column": null,
       "grid_gap": null,
       "grid_row": null,
       "grid_template_areas": null,
       "grid_template_columns": null,
       "grid_template_rows": null,
       "height": null,
       "justify_content": null,
       "justify_items": null,
       "left": null,
       "margin": null,
       "max_height": null,
       "max_width": null,
       "min_height": null,
       "min_width": null,
       "object_fit": null,
       "object_position": null,
       "order": null,
       "overflow": null,
       "overflow_x": null,
       "overflow_y": null,
       "padding": null,
       "right": null,
       "top": null,
       "visibility": null,
       "width": null
      }
     },
     "5e130e6deff044d9bf44e06b4a71bf8b": {
      "model_module": "@jupyter-widgets/controls",
      "model_module_version": "1.5.0",
      "model_name": "FloatProgressModel",
      "state": {
       "_dom_classes": [],
       "_model_module": "@jupyter-widgets/controls",
       "_model_module_version": "1.5.0",
       "_model_name": "FloatProgressModel",
       "_view_count": null,
       "_view_module": "@jupyter-widgets/controls",
       "_view_module_version": "1.5.0",
       "_view_name": "ProgressView",
       "bar_style": "",
       "description": "",
       "description_tooltip": null,
       "layout": "IPY_MODEL_3e45607d51344542b2942c24df19bc35",
       "max": 69,
       "min": 0,
       "orientation": "horizontal",
       "style": "IPY_MODEL_abaf19b93f6a42a59deeff75cc9b05cc",
       "value": 69
      }
     },
     "656b98a305134481acf6257f78a91395": {
      "model_module": "@jupyter-widgets/controls",
      "model_module_version": "1.5.0",
      "model_name": "DescriptionStyleModel",
      "state": {
       "_model_module": "@jupyter-widgets/controls",
       "_model_module_version": "1.5.0",
       "_model_name": "DescriptionStyleModel",
       "_view_count": null,
       "_view_module": "@jupyter-widgets/base",
       "_view_module_version": "1.2.0",
       "_view_name": "StyleView",
       "description_width": ""
      }
     },
     "6f0a13259237403fbe50376cb24d5a1f": {
      "model_module": "@jupyter-widgets/base",
      "model_module_version": "1.2.0",
      "model_name": "LayoutModel",
      "state": {
       "_model_module": "@jupyter-widgets/base",
       "_model_module_version": "1.2.0",
       "_model_name": "LayoutModel",
       "_view_count": null,
       "_view_module": "@jupyter-widgets/base",
       "_view_module_version": "1.2.0",
       "_view_name": "LayoutView",
       "align_content": null,
       "align_items": null,
       "align_self": null,
       "border": null,
       "bottom": null,
       "display": null,
       "flex": null,
       "flex_flow": null,
       "grid_area": null,
       "grid_auto_columns": null,
       "grid_auto_flow": null,
       "grid_auto_rows": null,
       "grid_column": null,
       "grid_gap": null,
       "grid_row": null,
       "grid_template_areas": null,
       "grid_template_columns": null,
       "grid_template_rows": null,
       "height": null,
       "justify_content": null,
       "justify_items": null,
       "left": null,
       "margin": null,
       "max_height": null,
       "max_width": null,
       "min_height": null,
       "min_width": null,
       "object_fit": null,
       "object_position": null,
       "order": null,
       "overflow": null,
       "overflow_x": null,
       "overflow_y": null,
       "padding": null,
       "right": null,
       "top": null,
       "visibility": null,
       "width": null
      }
     },
     "873d34bb3f2d42279ae867114f0d2cf1": {
      "model_module": "@jupyter-widgets/controls",
      "model_module_version": "1.5.0",
      "model_name": "VBoxModel",
      "state": {
       "_dom_classes": [
        "widget-interact"
       ],
       "_model_module": "@jupyter-widgets/controls",
       "_model_module_version": "1.5.0",
       "_model_name": "VBoxModel",
       "_view_count": null,
       "_view_module": "@jupyter-widgets/controls",
       "_view_module_version": "1.5.0",
       "_view_name": "VBoxView",
       "box_style": "",
       "children": [
        "IPY_MODEL_04647dc35078455fadcd5dc49d7d608c",
        "IPY_MODEL_c38dda38f3594e9a91538911cd997e86"
       ],
       "layout": "IPY_MODEL_92b00e52fbdb407e834bd75e4087f6d1"
      }
     },
     "8ad9e8eab4ea4e698c63418bf29390ee": {
      "model_module": "@jupyter-widgets/controls",
      "model_module_version": "1.5.0",
      "model_name": "ToggleButtonsStyleModel",
      "state": {
       "_model_module": "@jupyter-widgets/controls",
       "_model_module_version": "1.5.0",
       "_model_name": "ToggleButtonsStyleModel",
       "_view_count": null,
       "_view_module": "@jupyter-widgets/base",
       "_view_module_version": "1.2.0",
       "_view_name": "StyleView",
       "button_width": "",
       "description_width": "",
       "font_weight": ""
      }
     },
     "92b00e52fbdb407e834bd75e4087f6d1": {
      "model_module": "@jupyter-widgets/base",
      "model_module_version": "1.2.0",
      "model_name": "LayoutModel",
      "state": {
       "_model_module": "@jupyter-widgets/base",
       "_model_module_version": "1.2.0",
       "_model_name": "LayoutModel",
       "_view_count": null,
       "_view_module": "@jupyter-widgets/base",
       "_view_module_version": "1.2.0",
       "_view_name": "LayoutView",
       "align_content": null,
       "align_items": null,
       "align_self": null,
       "border": null,
       "bottom": null,
       "display": null,
       "flex": null,
       "flex_flow": null,
       "grid_area": null,
       "grid_auto_columns": null,
       "grid_auto_flow": null,
       "grid_auto_rows": null,
       "grid_column": null,
       "grid_gap": null,
       "grid_row": null,
       "grid_template_areas": null,
       "grid_template_columns": null,
       "grid_template_rows": null,
       "height": null,
       "justify_content": null,
       "justify_items": null,
       "left": null,
       "margin": null,
       "max_height": null,
       "max_width": null,
       "min_height": null,
       "min_width": null,
       "object_fit": null,
       "object_position": null,
       "order": null,
       "overflow": null,
       "overflow_x": null,
       "overflow_y": null,
       "padding": null,
       "right": null,
       "top": null,
       "visibility": null,
       "width": null
      }
     },
     "a090d2097d14448cb10c6aa31d08dc5d": {
      "model_module": "@jupyter-widgets/controls",
      "model_module_version": "1.5.0",
      "model_name": "FloatProgressModel",
      "state": {
       "_dom_classes": [],
       "_model_module": "@jupyter-widgets/controls",
       "_model_module_version": "1.5.0",
       "_model_name": "FloatProgressModel",
       "_view_count": null,
       "_view_module": "@jupyter-widgets/controls",
       "_view_module_version": "1.5.0",
       "_view_name": "ProgressView",
       "bar_style": "",
       "description": "",
       "description_tooltip": null,
       "layout": "IPY_MODEL_585c85b684734fb18e07a38a7cb2447d",
       "max": 4,
       "min": 0,
       "orientation": "horizontal",
       "style": "IPY_MODEL_018939d3a43140daa45f4e576c747c70",
       "value": 4
      }
     },
     "a701988d4f93444c82f80193f863f18b": {
      "model_module": "@jupyter-widgets/controls",
      "model_module_version": "1.5.0",
      "model_name": "HBoxModel",
      "state": {
       "_dom_classes": [],
       "_model_module": "@jupyter-widgets/controls",
       "_model_module_version": "1.5.0",
       "_model_name": "HBoxModel",
       "_view_count": null,
       "_view_module": "@jupyter-widgets/controls",
       "_view_module_version": "1.5.0",
       "_view_name": "HBoxView",
       "box_style": "",
       "children": [
        "IPY_MODEL_c231870ad9bb43d9a930a5e5e21010ab",
        "IPY_MODEL_5e130e6deff044d9bf44e06b4a71bf8b",
        "IPY_MODEL_c6c4dc02bc6f431b9b8ab81fc6ead9bc"
       ],
       "layout": "IPY_MODEL_191141ec41ab4d9b86b8c2f0577b9fd7"
      }
     },
     "abaf19b93f6a42a59deeff75cc9b05cc": {
      "model_module": "@jupyter-widgets/controls",
      "model_module_version": "1.5.0",
      "model_name": "ProgressStyleModel",
      "state": {
       "_model_module": "@jupyter-widgets/controls",
       "_model_module_version": "1.5.0",
       "_model_name": "ProgressStyleModel",
       "_view_count": null,
       "_view_module": "@jupyter-widgets/base",
       "_view_module_version": "1.2.0",
       "_view_name": "StyleView",
       "bar_color": null,
       "description_width": ""
      }
     },
     "af8429ae7f28493b9b3def5dbb03719e": {
      "model_module": "@jupyter-widgets/controls",
      "model_module_version": "1.5.0",
      "model_name": "DescriptionStyleModel",
      "state": {
       "_model_module": "@jupyter-widgets/controls",
       "_model_module_version": "1.5.0",
       "_model_name": "DescriptionStyleModel",
       "_view_count": null,
       "_view_module": "@jupyter-widgets/base",
       "_view_module_version": "1.2.0",
       "_view_name": "StyleView",
       "description_width": ""
      }
     },
     "c231870ad9bb43d9a930a5e5e21010ab": {
      "model_module": "@jupyter-widgets/controls",
      "model_module_version": "1.5.0",
      "model_name": "HTMLModel",
      "state": {
       "_dom_classes": [],
       "_model_module": "@jupyter-widgets/controls",
       "_model_module_version": "1.5.0",
       "_model_name": "HTMLModel",
       "_view_count": null,
       "_view_module": "@jupyter-widgets/controls",
       "_view_module_version": "1.5.0",
       "_view_name": "HTMLView",
       "description": "",
       "description_tooltip": null,
       "layout": "IPY_MODEL_f1876d1f4c2447af9db56a544bfe76b6",
       "placeholder": "​",
       "style": "IPY_MODEL_656b98a305134481acf6257f78a91395",
       "value": "Processing: 100%"
      }
     },
     "c38dda38f3594e9a91538911cd997e86": {
      "model_module": "@jupyter-widgets/output",
      "model_module_version": "1.0.0",
      "model_name": "OutputModel",
      "state": {
       "_dom_classes": [],
       "_model_module": "@jupyter-widgets/output",
       "_model_module_version": "1.0.0",
       "_model_name": "OutputModel",
       "_view_count": null,
       "_view_module": "@jupyter-widgets/output",
       "_view_module_version": "1.0.0",
       "_view_name": "OutputView",
       "layout": "IPY_MODEL_07cbf3c747be4c5d9b8e7cb8065ca1cf",
       "msg_id": "",
       "outputs": [
        {
         "data": {
          "image/png": "iVBORw0KGgoAAAANSUhEUgAACIgAAAB3CAYAAABivenbAAAAOXRFWHRTb2Z0d2FyZQBNYXRwbG90bGliIHZlcnNpb24zLjUuMywgaHR0cHM6Ly9tYXRwbG90bGliLm9yZy/NK7nSAAAACXBIWXMAAA9hAAAPYQGoP6dpAABVqElEQVR4nO3dd1gU1/s28HupSy8iKGhsaFBULBixY8GKXRF7L4kaW4wFE/Vrib3FxJooKNbYe+89tlgAazT2DkhHzvsH785v1wVF3WXY5f5cl5fL7GH2mWXmnCnPOUchhBAgIiIiIiIiIiIiIiIiIiIiIqNlIncARERERERERERERERERERERKRfTBAhIiIiIiIiIiIiIiIiIiIiMnJMECEiIiIiIiIiIiIiIiIiIiIyckwQISIiIiIiIiIiIiIiIiIiIjJyTBAhIiIiIiIiIiIiIiIiIiIiMnJMECEiIiIiIiIiIiIiIiIiIiIyckwQISIiIiIiIiIiIiIiIiIiIjJyTBAhIiIiIiIiIiIiIiIiIiIiMnJMECEiIiIiIiIiIiIiIiIiIiIyckwQISIiIiIiIiIiIiIiIiIiIjJyTBAhIiIiIiIiIiIiIiIiIiIiMnJmcgdARET/58WLFzh69CjOnz+Pmzdv4smTJ4iPj4cQQu7QiHIsc3NzODk54auvvkLp0qVRtWpVlCtXDqampnKHZrDu3LmDY8eO4dKlS7hz5w5evHiBxMREucMiytEsLS3h4uKCIkWKoFy5cqhRowaKFSsGhUIhd2gGKS0tDZcvX8bJkydx5coV3Lt3D69fv0ZKSorcoRHlWAqFAtbW1nBzc4OnpycqVKiAmjVrws3NTe7QDFZSUhJOnz6NM2fO4Pr163jw4AFiYmLw7t07uUMjIoKpqSns7e1RoEABlCxZEn5+fvDz84OlpaXcoeU4QgiMGjUK+/btkzsUIiIio2NmZoaePXuiT58+codCWaQQfOpoMNavX4+ff/4ZsbGxX7yuhIQExMbGws7ODlZWVjqIjnIbXe5DdnZ2mDBhAtq0aaOj6AxLfHw8Vq1ahbCwMBw/fpzJIEQ64OrqirZt26JPnz4oW7as3OEYhKdPn+KPP/7AypUrERERIXc4REahRIkS6NChA3r37g13d3e5wzEI169fx+LFi7F27Vo8efJE7nCIjEKVKlXQpUsXdOrUCba2tnKHk+MJIXDo0CH88ccf2Lp1K96+fSt3SEREWWZjY4NmzZqhV69eqF27NpOV/7/Tp0+jSpUqcodBRERktJRKJeLj43nuYSCYIGJASpYsicjISLnDINILLy+vXPdAMikpCfPnz8eUKVPw4sWLTMuZmprCxIQzghFlRAiB1NTUD5Zp3LgxfvnlFyaKZOL58+eYMGECFi9ejKSkpEzLmZmZ8QSfKBMfq4vMzc3Rs2dPjB07Fvny5cvGyAzH9evXMXr0aGzZsuWD5VgXEWUuLS3tgyNbODk5Yfjw4Rg8eDA7imRi7969GD16NM6fP59pGYVCATMzDshLRPJLTU39YCejChUq4JdffkH9+vWzMaqcaeXKlejcuTMAwMTEhCOOEhER6YhqpFd7e3tER0fLHA1lFRNEDEiBAgXw8OFDmJiYIH/+/F+0rsePHyMtLU0n66LcSVf7kGo9Hh4eePDggQ4jzNlOnjyJ7t2748aNGxrLvby8EBgYiOrVq8Pb2xsFChSAUqmUKUoiw5CWloaXL1/i9u3bOH/+PPbv34/du3drTIliYmKCIUOGYOLEiTym/j8hBFasWIHBgwfj9evXGu9Vq1YNDRs2hJ+fH7y8vODm5gZzc3OZIiUyDKmpqXj69CmioqJw5swZ7N69G8eOHdO4aW9vb48ZM2agV69eTHL4/5KTkzF+/HhMmzZNI8nG0tIS9evXR7169eDr6wtPT0+4uLgwaZboIxITE/Ho0SNcu3YNJ06cwPbt23Ht2jWNMkWLFsWff/6JWrVqyRRlzvP8+XN89913+OuvvzSWOzk5oWnTpvD390f58uVRpEgR2Nvbsw4nohxBCIGYmBjcvXsXly5dwqFDh7B9+3a8evVKo1zr1q2xYMEC5M2bV6ZI5Tdt2jSMGDECQPoo3bl1FGMiIiJdEkLAzs4OcXFxubITuCFjgogBUSWI6OJBui7XRbmTrvah3LYvCiEwc+ZMjBw5Uurdp1Ao0K5dOwwdOhS+vr682UikAzExMQgLC8P06dNx//59aXm5cuWwefNmFCpUSMbo5JeYmIg+ffpgxYoV0jJra2t899136N+/PwoXLixfcERG5L///sPvv/+O3377TWOayLZt22LZsmWwsbGRMTr5PXz4EK1atcLZs2elZe7u7vjhhx/QvXt3ODo6yhcckRG5ePEiZs+ejfDwcKSlpQFIvwb53//+h5CQkFx//XH69Gm0bt0ajx49kpaVK1cOI0aMQKtWrWBhYSFjdEREnyY5ORmbNm3C1KlTcfHiRWl5/vz5sWHDhlw7zcrgwYMxd+5cAMDx48dRrVo1mSMiIiIyfDExMXBwcAAA1K5dGwcPHpQ5Isoqdr8iIsomaWlp6N+/P4YPHy4lh1SuXBkXL17E6tWrUalSpVx/c5ZIV+zt7TFgwABERUVh0qRJsLS0BABcunQJlStXxj///CNzhPKJjo5GQECARnJIhw4dcOvWLUyfPp3JIUQ6VLBgQfzyyy+4ffs2unXrJi1fv3496tSpo9W7MzeJjIyEn5+flBxibm6On3/+Gbdu3cKQIUOYHEKkQ+XLl0dYWBj++ecf1KhRA0B64vpPP/2EHj16fHBaGmO3bds2+Pv7S8khefLkQVhYGM6fP4/g4GAmhxCRwbGwsEC7du3w999/IywsDC4uLgDSR/CtXbv2R6fzM1aPHz+WXru7u8sYCRERkfFg+2q4mCBCRJQNhBAYMGAAFixYIC0bM2YMjh8/Dh8fHxkjIzJuSqUSo0ePxrlz5+Dp6QkAePr0KerUqYPIyEiZo8t+8fHxaNSoEY4fPw4gfdSQNWvWIDw8nFPOEelR3rx5sWzZMmzatAl2dnYAgLNnzyIgIAAxMTEyR5f9bt++jdq1a0ujxxUuXBinTp3C+PHjYWVlJXN0RMbL29sbhw8fxsSJE6XE9OXLl6NXr17IjYPL7tq1C61atUJSUhIAoFatWrh69So6d+7M6ayIyOCZmJigc+fOuHLlCvz9/QEASUlJaNOmDXbu3ClvcDJQHyWK175ERES6wfbVcPGKl4goG8yaNUtKDjE1NcWKFSswYcIEmJmZyRwZUe5QpkwZnDlzBpUrVwYAvHz5Eo0bN8bLly9ljiz7CCHQtWtXnDp1CkB6D9mjR4+iXbt2MkdGlHu0aNECJ06cQL58+QAAFy5cQIcOHaQpH3KD6OhoNGnSBE+ePAGQPrLBmTNnULFiRZkjI8odTExMEBISgnXr1sHc3BxAepLIxIkTZY4se129ehVt27ZFamoqgPTR1Pbu3SvVz0RExiJfvnzYu3cvOnbsCABITU1FUFAQrly5InNk2UvVw9nJyQlKpVLmaIiIiIwDRxAxXEwQISLSs9OnT2PEiBHSz8uXL0enTp1kjIgod3J2dsaePXtQrlw5AMDdu3fRo0ePXNNjdv78+fjrr78AAHZ2dti/fz8fyBLJoEyZMjhw4ACcnJwAADt27MD06dNljir79OvXD1FRUQCAUqVKYd++fXB1dZU5KqLcp02bNli9erU0ksjYsWNx+PBheYPKJvHx8Wjbti3i4uIApH8XYWFhnE6GiIyWubk5QkND0bZtWwBAXFwc2rZti/j4eJkjyx5CCKmHMx9eERER6Y76CCJsYw0LE0SIiPQoOTkZ3bt3l+b1Hj16NJNDiGTk4OCAbdu2SfMwb926FatXr5Y5Kv27e/euRqLaqlWrpEQZIsp+pUqVwvr166UHsz///LOUNGHMNm/ejDVr1gAAHB0dsW3bNuTJk0fmqIhyr9atW0sjhwgh0KNHDyQkJMgclf6NHz9emmqwXLlyCAsLg6mpqcxRERHpl6mpKUJDQ1G+fHkAQFRUFMaOHStzVNkjOjpaat84/D0REZHucIoZw8UEESIiPfr999+lm4+VKlXC+PHjZY6IiAoUKIAlS5ZIPw8fPtzoH4aMHDlS2sb+/fsjMDBQ5oiIqG7duhg+fDiA9ITSYcOGyRyRfiUnJ2Po0KHSz7/99huKFi0qY0REBKSfI9SsWRNAekLp7NmzZY5Iv27fvo1Zs2YBACwtLbF69WpYWVnJHBURUfawsrLC6tWrYWlpCQCYM2cObt26JXNU+sfh74mIiPSDbazhYoIIEZGeJCYmYsqUKQAAhUKBhQsXwszMTOaoiAgAWrRoISVJPHr0SCNhxNhcu3YN69atAwC4urpi8uTJMkdERCpjx45FgQIFAKRPNXPu3DmZI9KfsLAw3L17FwBQp04dtG/fXuaIiAgATExMsGDBAmkEjRkzZiA2NlbmqPRn8uTJSE1NBZCeJOzl5SVzRERE2evrr7/Gjz/+CABITU3FpEmTZI5I/9i7mYiISD/YxhouJogQEenJ2rVr8fTpUwDp81pXqFBB5oiISJ36jbBff/0VaWlpMkajP/PmzZNejxo1Cvb29jJGQ0TqrK2tMWbMGOln9ePVmAghMHfuXOnnyZMnS9PrEJH8SpUqJU2D+fr1a6xcuVLmiPTjxYsX0rY5OjpKozgREeU2P/zwAxwdHQGkTz/6/PlzeQPSM/ZuJiIi0g9VG2tvbw8bGxuZo6FPwQQRIiI9CQsLk14PHjxYvkCIKENly5ZF3bp1AQC3bt3CqVOnZI5I95KSkrBmzRoAgK2tLXr27ClzRET0vq5du8LJyQkAsGHDBrx9+1bmiHTv0qVLuHr1KgCgSpUqqFy5sswREdH7hgwZIr0ODQ2VMRL9WbduHZKTkwEAPXr0YNIsEeVa9vb26NWrF4D0aQDXrl0rc0T6pd67mQkiREREuiGEkNpYtq+GhwkiRER68ObNGxw5cgQAUKxYMVSpUkXmiIgoI126dJFeb9myRcZI9OPIkSOIiYkBALRs2RJ2dnYyR0RE71MqlQgKCgIAJCQkYP/+/TJHpHvq9Wvnzp1ljISIMuPj44MyZcoAAM6cOYMnT57IHJHuqddF6ueARES5kbFfC6vj8PdERES6Fxsbi7i4OABsXw0RE0SIiPTg2LFjePfuHQAgMDCQw6gT5VCNGzeWXh8+fFi+QPTk0KFD0uvAwEAZIyGiD1E/Po2xLlLfJtZFRDmX+vGpSnY3FikpKTh27BgAoECBAihbtqzMERERyat06dL46quvAADHjx9HSkqKzBHpD6eYISIi0j22r4aNCSJERHpw4cIF6XW1atVkjISIPsTFxQVeXl4AgMuXLyM1NVXmiHSLdRGRYahatar0+vz58zJGontCCKkuKliwIAoWLChzRESUGfVzBfVzCGMQFRWFhIQEAOnbyQR+IsrtFAqFdA6amJiIyMhImSPSH44gQkREpHtsXw0bE0SIiPTg5s2b0mtvb28ZIyGijylVqhSA9LmX//vvP5mj0a1bt24BSJ9jmpncRDmXs7OzdDGtOm6NxbNnzxAbGwuA50REOZ36Map+PWMMeH1GRKTNmOt9daoezk5OTlAqlTJHQ0REZBw4gohhY4IIEZEePH36VHrt4eEhYyRE9DHqx6j6sWsMVNvj4eHBnrJEOZyqLnr69CnS0tJkjkZ3eE5EZDjUb+oZ6zkRwLqIiEjFmK+FVYQQUg9nPrwiIiLSHfURRNjGGh4miBAR6UF8fLz02tbWVsZIiOhj1I9R9WPXGKi2h/UQUc5nY2MDIP0mdlJSkszR6A7PiYgMh4WFBSwsLAAY7zkRwLqIiEjFmK+FVaKjo6Upxjj8PRERke5wihnDxgQRIiI9Y699opzNxOT/ToeEEDJGonuq7VHfRiLKmYz1OFWvV411G4mMieraxdjOidTx+oyIKJ0xXwurcPh7IiIi/WAba9h4h46IiIiIiIiIiIiIiIwKezcTERHpB9tYw8YEESIiIiIiIiIiIiIiMirs3UxERKQfqjbW3t5emjaZDAcTRIiIiIiIiIiIiIiIyKio925mgggREZFuCCGkNpbtq2FigggRERERERERERERERkVDn9PRESke7GxsYiLiwPA9tVQMUGEiIiIiIiIiIiIiIiMCqeYISIi0j22r4aPCSJERERERERERERERGRUOIIIERGR7rF9NXxMECEiIiIiIiIiIiIiIqOi6uHs5OQEpVIpczRERETGgSOIGD4miBARERERERERERERkdEQQkg9nPnwioiISHfURxBhG2uYmCBCRERERERERERERERGIzo6GgkJCQA4/D0REZEucYoZw8cEESIiIiIiIiIiIiIiMhoc/p6IiEg/2MYaPiaIEBERERERERERERGR0WDvZiIiIv1gG2v4mCBCRERERERERERERERGg72biYiI9EPVxtrb28PGxkbmaOhzMEGEiIiIiIiIiIiIiIiMhnrvZiaIEBER6YYQQmpj2b4aLiaIEBERERERERERERGR0eDw90RERLoXGxuLuLg4AGxfDRkTRIiIiIiIiIiIiIiIyGhwihkiIiLdY/tqHJggQkRERERERERERERERoMjiBAREeke21fjwAQRIiIiIiIiIiIiIiIyGqoezk5OTlAqlTJHQ0REZBw4gohxYIIIEREREREREREREREZBSGE1MOZD6+IiIh0R30EEbaxhosJIkRfqHDhwujWrZvcYRDlWMuXL4dCocC///4rWwzjxo2DQqGQ7fOJSF6sh4iI6H05oW0gIqIP4zk0fa7o6GgkJCQA4PD3uZ2/vz/8/f3lDkPv5HpG8e+//0KhUGD58uU6XS/P1T+Pvvf3bt26oXDhwnpbPxkGTjFjHJggQrI6fPgwFAqF9M/ExAROTk4ICAjAvn375A5P7w4ePIhx48bhzZs3codC9FkiIyPRuXNneHp6QqlUIm/evPD19cWQIUM0hhozdP7+/ihQoIDcYWTZxo0bMW7cOLnDIMoWrIdyJtZDZOxevHiBESNGoFSpUrC2toaDgwP8/Pwwb948JCcnZ1sc3bp1g0KhQGpqaobvd+rU6YserM2aNSvTm73q13Hv/3N0dPzszySi7Ke6N7N06VK5Q9GZnFJPq5w4cQJt2rRB/vz5YWFhgfz586N169Y4fvz4F603LS0N48aNw+bNm7XeUz20y+xfuXLlvuiziXIyDn+fOxhj+/V+3W1mZgZnZ2f4+Pigb9++OHXqlNwh5lofanPVPXr0CKamplAoFDhz5kz2BEeUjdjGGgczuQMgAoCePXvC398f7969w927d7Fo0SI0bNgQe/bsQb169eQOT28OHjyISZMmoVu3bryJSgbn9OnTqF27NhwdHdGtWzcULVoUL1++xD///IMlS5agefPmyJ8/Pzp16oQ2bdrAxsZG7pBzjY0bNyI8PJwPZ8nosR7KuVgPkTG7dOkSGjZsiNevX6Nz584YPHgwkpKSsGfPHgwaNAirV6/Gzp074eTkJHeoX2zWrFnw9PTMtDdi1apV8e2332ott7Cw0HNkRESZy2n19JQpUzBq1CgULVoUffv2xVdffYX//vsPK1asQI0aNTB58mSMGjXqs9adlpaG8ePHo2vXrmjRokWGZZo3b442bdpoLXd2dv6szyQyBOzdTCq7du2SO4TPoqq7hRCIjY1FREQENmzYgMWLF6N3795YuHAhTEz+r//39evXYWpqmu1xFipUCLGxsVAqlTpdb068j5OVNhcAVqxYAQsLCzg5OSE0NBSVK1fOviD1bNGiRXj37p3cYZDM2MYaByaIUI7g5+eHTp06ST+3bdsWpUuXxuzZs406QYTIkE2YMAGmpqY4d+6cVq/2t2/fSieLZmZmsLW1lSNE0oO3b9/y70k5Buuh3In1EMkpNjYWLVq0QFJSEk6fPo3y5ctL7w0cOBDLli1Djx490KtXL2zYsEHGSLNHkSJFNK7jcrvY2FjY2dnJHQZRrpbT6umtW7di1KhRaNiwITZt2qTxAG3EiBFo0aIFRo8ejdKlS6Np06Z6iaF06dKsq9XwXDJ3YO9mUrGyspI7hCyJj4/XaCMyqrtnzJiBvn37YsmSJcifPz/Gjx8vvWdtbZ1tsQKQRuOysLDQS51qyPdxwsLC0KxZMxQqVAhLly7F7NmzYWlpKXdYOmEs20FfRtXG2tvb56gkLvo0nGKGciRvb2+4uLjg1q1bGsuPHTuGDh06oEiRIlAqlXBxcUHr1q0RFRWlUa5atWqoVKmSxrJBgwZBoVDgp59+0lju5eWFRo0afTSmly9folu3bnBycoKdnR0aN26sFR+QfnI0btw4VK5cGXny5IFSqUSpUqUwZ84cCCGkct26dcOkSZMApN9YVQ0bd/jwYQDpNxFatGiBggULwtLSEvny5UPXrl01svOI5HT79m14enpmOOWBra0tHBwcAGQ8Z6RqOPTHjx+jY8eOcHJygrOzM/r164fk5GTEx8djwIABcHNzg42NDdq2bas1FZNqHQ8fPkS7du3g6OgIBwcHdOzYEc+ePcvSNly7dg1BQUHImzcvLC0t4eXlhZkzZyItLe2jv6ua7uHOnTsIDAyEnZ0d3Nzc8PPPP0MIgRcvXqBjx45wdnaGg4MD+vbtqzWUsWodN2/eRMOGDWFrawsXFxf0798fcXFxWmUzmkPy/e/X398f4eHhADSHflf//k+ePInGjRvDyckJSqUS5cqVQ2hoqNa6FQoFOnXqhF27duGbb76BlZUVxowZ89Hvhii7sB5iPUSU3RYvXox79+5hypQpGg8dVbp374527dph48aNuHDhgrRcVV88e/ZM45qiXbt2eP36tdZ67t+/j549e8Ld3R0WFhYoUqQIQkJCkJSUpJPt+Pvvv9G4cWM4ODjAysoKlSpVwtq1azXKqOq3I0eOSMfx58w3rRome8yYMdiwYQPKlCkDpVKJEiVKYN26dRn+zrJly/DNN99IdXmlSpXwxx9/aJS5efMmgoKC4OLiAqVSiTJlyuC3337LcH1//fUXypYtC6VSiWLFimH27Nka12bqsvrdq+rPGzduIDAwEA4ODqhZs+Ynfz9EhmT79u2oVasW7OzsYG1tjapVq2LHjh0aZbJ6T2Tu3LlQKBQ4ffq01udcuHABCoUC06dPl5a9e/cOs2fPlo5lJycntGzZEhERERq/m9Pq6ZCQENjZ2WHFihVavauVSiVWrlwJW1tbhISESMtV9WZGU3ypn4/9+++/MDc3BwCEhoZKdXVG52sfoz5Nw8KFC+Hp6QlLS0uUK1cOhw4d0iqfmpqKmTNnwsfHB1ZWVnB2dkaNGjWwZcsWjXJZaW9Ufv/9dxQvXhxKpRLe3t5YsWJFpvFm9Ry6cOHCqF69Os6ePQt/f3/Y2NgwWSaXUL9/ygSR3C2j61jVdeaRI0dQuXJlWFlZoVChQvj1118zXIcu2z8AGDduHBQKBS5evIjvvvsObm5usLW1RUxMzAe3xdLSEkuWLEHx4sUxa9YsxMbGSu8VLlxYa9S/P/74AxUqVICdnR3s7Ozg5eWFfv36aa1369at8Pf3lx72lilTBlOmTJHeV13z79y5EyEhIShYsCCsrKxw/fr1DNssVfndu3fj559/RoECBWBjY4MGDRrg/v37AIBff/1VmirYz88PV65c0YjpQ/dxstJWZ/U5EpC1/SGrbe65c+dw/fp1dOrUCZ07d8br16+xbds2rc9Ubd+ePXswceJEFCxYEEqlEtWqVcPly5c1yt67dw8DBw6Et7c3bG1tYWtrixo1anx0dJzU1FS4u7sjICAgw/cDAwPh4uIi3Sf6559/0KJFC+TPnx+Wlpbw8PBAYGCgRjzdunXTuiY8evQoAgICkDdvXum7a9u2rfS3JuMihJDaWLavho0jiFCO9ObNG7x+/RrFixfXWL5u3To8evQIXbt2hYeHB+7fv49FixahevXquHbtGlxdXQGkn/hNnToVMTExsLe3B5B+sWtiYqJxYfvkyRNERUVlOmSySnJyMurXr4+LFy+id+/e8PHxwbFjx1C7dm0kJiZqlI2JicH8+fPRtm1bdOjQAaamptizZw+GDBmCV69e4X//+x8AoG/fvnjz5g22bNmC2bNnw8XFBQBQsmRJAMCff/6J1NRU9O3bF25uboiMjMSSJUtw+vRpXL58WefDthF9qiJFiuDQoUM4efIkqlat+lnrCAwMxNdff43JkyfjyJEjWLRoEaytrREZGQkzMzOMHTsWFy9exNKlS2FnZ4c///xTax1NmjRBwYIFMWnSJFy/fh0LFy7EtWvXcPbs2Q8Ob3769GnUq1cPBQoUwNChQ+Hk5IRDhw7hhx9+wO3bt/H7779/NP6EhAQEBASgfv36mDZtGjZt2oQJEybA3t4e4eHhKF26NCZNmoQDBw5g8eLF8PDwwM8//6y1jnr16qFmzZqYNm0aTp06hd9//x13797Fzp07P/k7DQkJQUpKCk6ePKlxQy1v3rwAgM2bN6Nt27aoUKECRo8eDWtra2zduhXdunXD06dP8eOPP2qs78KFC9i+fTv69euH3r17S/UsUU7Aeoj1EFF227x5MywsLNC5c+dMy/Tq1Qtr167F5s2bUaFCBY33mjRpgkKFCmHy5MmIjIzEb7/9BgsLC41j5c6dO6hSpQrMzc3Rp08fuLu749y5c5g6dSouXbqE7du3Q6FQaKz35cuXGQ4pnVFCyalTp1CnTh04Ojpi6NChUn0RHByMZ8+eYeDAgQDSh0b+/vvv4ebmJj24fL8XX1JSEl68eKH1GZaWllojaezevRt//vknvv32Wzg6OmLJkiVo3749ypUrhxIlSkjlBgwYgN9++w2VK1fGmDFjYGdnh8uXL2Pbtm3o2bMngPQEQT8/P6SkpGDAgAHInz8/Nm3ahAEDBuDOnTuYOXOmtL7169ejXbt28PLywsSJE5GUlKRx/aXuU7/7+Ph41K1bF3Xr1sW0adOQmpqqtU4iYzF//nwMHDgQAQEBmDBhAhQKBVavXo2mTZti1apVCA4OBpD1eyLBwcEYNmwYwsPD4efnp/FZq1atgkKhQPv27aVlwcHB2Lx5Mzp37ozvvvsOL1++xO+//44qVarg3Llz0v2jnFRP3759G1evXkWnTp0yrHMAwMXFBc2bN0d4eDju3LmDokWLZvlvkjdvXoSGhqJr166oUaMG+vTpAwBwc3PTKJeQkJBhXW1tba3V43zRokWIjo5G7969YWFhgTlz5qB58+a4d++eNCVPWloaWrduja1bt6J+/frSA7u///4be/bsQfPmzQFkvb0B0nvFDx8+HH5+fhgwYABevnyJQYMGoVChQlpxf+o59IMHD9CwYUN07NgRHTt25P20XILD39PH/PPPP2jTpg369OmDrl27Ys2aNfj+++9RqlQp1K1bVyqn6/ZPXZcuXeDi4oIxY8YgNjY2S9M0mpubo1OnThg7diyOHz+eacfX5cuXo1evXmjevDl69+4NhUKBO3fuaCUrqOrfkiVL4ocffoCrqysiIiKwefNmjBw5UqPsiBEjYG5ujsGDB0OhUMDZ2fmDnVtGjx4NpVKJH3/8EY8ePcLMmTPRsmVLBAUFYdWqVejfvz9iYmIwbdo0tGrVCpGRkVmaJicrbXVWnyOpfGx/yGqbGxoaChcXFzRs2BDm5uYoU6YMQkNDM5zqDYDUAWbo0KFITEzEjBkz0KJFC9y8eRNmZumPb8+dO4d9+/ahefPmKFq0KGJiYrBixQo0adIE+/bt09hf1ZmZmaFz586YMWMGHjx4oNG56unTp9izZw/69esHCwsLvHjxAnXr1oWDgwMGDRoEV1dXPHnyBEeOHEFERAR8fHwy/IyIiAg0aNAAXl5eGDVqFBwcHPDgwQPs3bsX//33H7766qsP/SnJAMXGxkodyti+GjhBBsPDw0MAEB4eHjlqXV/i0KFDAoCYPXu2eP78uXj69Kk4ffq0CAgIEADEvHnzNMq/fftWax1RUVHCwsJCTJ48WVq2d+9eAUDs2LFDCCHEy5cvhUKhEO3btxcWFhYiLi5OCCHEmjVrBABx6tSpD8a5YMECKU51Q4cOFQBE165dpWWpqakiMTFRax3dunUTtra2IikpSVoWEhIiAIi7d+9qlc9oWw8fPiwAiFWrVn0w3uygq30op+yLunDx4kXx7t07IYQQVatWFQAEAGmZsTl69KgwMzMTAES5cuXEgAEDxMqVK8XTp081yi1btkxrP+/atasAIAYPHqxRtmLFikKhUIigoCCN5YGBgcLc3FzjuFCt4/2y8+bNEwDE77//Li0bO3asUG/y0tLSROnSpUXFihW1jtdhw4YJhUIhIiIipGW1atXS2kdr1aolAIg5c+ZIy5KTk0W+fPmEQqEQP/74o0b50qVLC3d39wzX8X5ZVd2yc+dOjbK1atUS78vo++3YsaPIqImPj48XLi4uIjAwUKSlpWm817p1a2FlZSVev34tLVPtw0eOHNFalzFR1cUAxP79++UO54vExMSIqKgo6WfVdlWuXFnGqPSH9RDrIWNSu3ZtaXvj4+PlDueL/Pfff+LJkydCCCFOnjwpbdeQIUNkjuzLOTk5ibJly36wzMuXLwUA0bp1a2mZqr4YMGCARtlBgwYJU1NTER0dLS1r3Lix+Oqrr8TLly81yv76668CgNi9e7fWej/2T90333wjrKysNI7ZhIQEUa5cOWFtbS1evXolLffw8MjwuBdCfPDz1Lf97t27AoCwtrYW9+7dk5Y/efJEWFhYiOHDh0vLjh07JgCINm3aiNTUVI3PU68zgoKChEKh0LiOe/funWjcuLFG/Zmamio8PDxEwYIFNb7jhw8fCjs7O62661O+e1X9OX78+Ay/H0NlaWkpAAgfHx+5Q/likZGRUrs9c+ZMaf9ct26dzJHlPKp7M0uWLMnw/QcPHggLCwvRv39/jeWpqanim2++ER4eHtJ176fcE2nQoIHImzevSElJkZa9e/dOeHh4CH9/f2nZunXrBACxfv16rbjs7e1FcHCwtCwn1dNbtmwRAMSsWbM+GI9q/9y2bZsQ4v/qzWXLlmmVff98LCUlReu+lIpqPZn9GzZsmFRWtQ+4u7trbOvFixcFAPHbb79Jy1asWJFpu65eV2e1vXn16pWwsrISlSpV0tg/Ll26JExMTL7oHLpQoUICgAgNDdWKlYT466+/pP1h+vTpcofzxS5cuCDVRUFBQdK23blzR+bISF8+1n4JkfF1LAChUCjE2bNnpWWJiYnC1dVVtG3bVlqmr/ZPdX+gXr16WveNVXV3SEhIptu0ceNGAUDMnTtXWlaoUCGNtqBFixaiVKlSma5D9VlmZmaiatWqWteg6vW56pq/VKlSIiEhIcN41dssVXlfX1+NNl51n6FIkSIanzdjxgwBQOzdu1drHRndx8lKW53V50hCZH1/+FCbK4QQSUlJIk+ePOK7776Tlk2dOlWYmZllep+qfPnyIjk5WVq+adMmjedaQgjpWZa6xMRE4eXlJerXr6+x/P39PTIyUgAQkyZN0iin+s7Pnz8vhBBi8+bNAoA4c+ZMhtum0rVrV1GoUCHp5zlz5ggAWttHxku1TwEQHTt2lDsc+gIcQcSAPHz4UON/YzJkyBAMGTJE+tna2hoTJkzAgAEDNMqpz2f19u1bJCUlwdnZGV9//TXOnTsnvVe1alWYm5vj8OHDaNy4sTQs8k8//YTVq1fj5MmTqFevHg4fPgwbGxv4+vp+ML4tW7bA1tYW3377rcbyH3/8EbNmzdJYZmpqKmW6pqamIjY2Fu/evUPdunWxfPlyREZGomzZsh/9TlTbKoRAbGwskpOT4e3tDUdHR5w7d06jJ40hS0hIAJA+b1lGUwQYksePH8POzg6tW7fGy5cv5Q5H72rUqIFTp05hxowZ2LNnDy5duoT58+fDzMwM3377LWbOnCkNvZeZ948pPz8/nD9/Xmu4w2rVqmH79u24f/++NMqOyuDBgzV+7tOnD0aPHo1t27ZprV/lypUruHr1KubMmYPY2FiNIRkbNWqEmTNn4sCBA/Dy8vpg/CYmJujbt6/0s7m5OSpWrIgdO3ZkuA2LFi1CQkKC1vyn72/DsGHDMGvWLGzbti1LU2Bl1b59+/DixQt0795dax9t0qQJNmzYgBMnTqBJkybSch8fn1w1XHpwcLBBz6eZkpKCZ8+eIX/+/OjQoYPc4egd6yHWQ8bK09NTa4QIQxIXF4c3b96gePHiqF27ttzh6JT6CIWZUb0fHR2t9d771ze1atXC3Llzce/ePZQpUwZv3rzB7t27MXjwYKSlpWn0+K5fvz4AYP/+/WjQoIHGevbs2QMTE+0ZZKdMmYIDBw5IPz99+hRnz55Fjx49NIYGViqVGDJkCLp27Yp9+/YhKCjog9uoUrduXa2ehYB2TzoAaNasmUYPMjc3N3h5eeH27dvSMtWUM7/88otW70HVMfHu3Tvs2LEDtWvX1hh1wMTEBCNGjMDOnTuxdetWeHl54e+//8bDhw8xceJEjb+bu7s7OnTogEWLFknLPve7V+8BbwzevXsHALh+/brBX5+9ffsW8fHxqFevntYoCfRpNmzYgOTkZHTr1k1rJIomTZpg7NixiIiIgLe39yfdE+nYsSP27NmD/fv3o2HDhgCAI0eO4OHDhxg3bpz0GatXr0b+/Pnh7++v8fmWlpbw8/PD/v37pWU5qZ5WTRXwJfHoQseOHTMcOTej0Tm6dOmiEW+5cuVgb2+vVVcrlUqMHz9e6/dVdfWntDd79+5FQkICBg0apNF73sfHBwEBAdizZ4+07HPOoZ2cnDitTBZMnDgRc+bMkTuML/Lo0SM4OjqidevWGtNVsIczZaRy5coaU9Sr2hT1+k5f7Z9K//79MzyH/xjVSH3qdeD7HB0d8eDBA5w4cQLVqlXLsMzGjRuRmpqK8ePHa90jyOh6tHfv3p80ClPv3r2lUTAAoEqVKgCAzp07a3yeKr5bt25lOh2Kuo+11UDWnyOpZGV/+Jjt27fj5cuXGm1Ox44dMWrUKISHh2s8/1Lp27evxn2rWrVqAYDG56qfxyYmJiIuLg5CCPj7+2c6bZvK119/japVqyI0NBSjR4+WloeGhqJMmTLSSGqOjo4A0p+D+fj4ZPneqOr3NmzYgD59+mRpBBgybByhy3gwQYRyhKFDh6JRo0ZITEzEsWPHMHPmTCQkJGidiDx+/BgjR47Etm3btOaVUx+uU5X0cfjwYQDp08uUK1cOJUuWRIkSJXD48GEpQaRatWoaJyoZuXv3LgoXLqzVMLq5uUmNoLqVK1di5syZuHLlinSDTeXNmzcf+TbS3bhxAyNHjsS+ffvw9u3bz1qHIVCdyKalpRlF8tPbt28RFxf3weH1jImvry/WrFkDIQRu3ryJAwcOYObMmfj111/h4uKiNY3B+96/IaU6nt4ffk61/NWrV1rr+PrrrzV+trS0ROHChXH37t1MPzcyMhJA+gPR9x+Kqjx79uxDoQMAXF1dtS6MsrINHh4e0nI7Ozutkyl3d3fY2dl9cBs+h2q7W7dunWmZ97e7WLFiOo0hp8to6GVD9OLFC2m4P2PHeoj1kDFSv+A2ZA8ePNCajtHQ2dvbf3Ru8A89EHx/vmbVcP2quuXGjRtIS0vDrFmztBLRVTKqG+rUqZPhNY36XOAApGO6VKlSWmVVyz7luM+XLx/q1auXpbLvbzuQvv3q9erNmzdhY2MDT0/PTNfz/PlzxMXFZWkbVP9nlGz3frLf53z3zs7O0t/QWKiuX1NSUozi+gxIT1rjzeovo2q/1R+cvO/Zs2fw9vYGkPV7Ii1btoS1tTXCw8OlBJHw8HBYWlpqDMUeGRmJx48fS9PVZSQtLQ0mJiY5qp5Wrf9L4tGFwoUL67yuLlq0qNZUYuo+pb35WF2tniDyOefQRYoU+awHsLlNdHS03pKUslNMTAzi4uKkZHRHR0dOK0QZyqy+++eff6Sf9dX+qXzuta7qfvqH2o1Ro0bh8OHDqF69OgoUKIDatWujadOmaNWqlXRedPPmTQDIdPqQL41XF/dbMvKxthrI+nOkzNapWq/6/vAxoaGhyJcvH/LmzYtbt25Jy8uXL4/Q0NAME0Sysi0pKSmYMGECwsLCcO/ePY3yWelY0rNnT/Ts2ROnT5+Gn58fLl68iCtXrmicx9SsWRMdOnTA5MmTMXv2bFStWhUNGzZEhw4d4O7unum6g4ODERoaiu+++w4jR45EzZo10ahRI7Rv397orpMo3ePHj6XXH9o3KOdjggjlCCVLlpQuVgMDA+Ho6IjRo0ejSpUqCAwMBJB+sd+gQQM8ePAAQ4YMgbe3N2xtbWFiYiL13FBXq1YtTJ8+HbGxsVJCCAD4+/vj8OHDePbsGSIjI9GlS5ePxieEyLSxFUJo/Lx+/Xp07twZjRo1wsCBA5EvXz5YWFjgwoULGDFiRJYSB2JjY1GrVi2Ym5tj7NixKF68OKytraFQKBAcHGxUyQd2dnZ49eoVTExMDD7j0NTUFFOnTkVwcDCqVasmnWTnBgqFAiVKlECJEiUQFBSEYsWKITQ09KMPZjO7UZvZ8vePN9VnfyrVMTR27FhUr149wzJFihT56Ho+dKM5q9uQ1bpFoVBkuP3vX3B+iGq7FyxYkOmDl/dv4L3fg8DYubi4GPQIImlpabC0tMS0adPQtm1bLFy4UO6Qsg3roay/x3oo53N3dzfoEURSU1NhY2ODqVOnwsPDA2FhYXKHpDPe3t44e/ZshiPxqFy8eFEq+76PHZeqY6Rfv36ZJlLp+5xZX/vep9SrX0q1Dap1Z7RN73/u53z3xlg/mZqaIjU1Febm5lpzsxsac3Nz/Pzzz+jevTtmzZqF7du3yx2SwVIdHxs3bsw0KUD1cOlT7onY2tqiWbNm2Lx5M+Lj42FqaooNGzagSZMmGp1x0tLSUKRIESxevDjTGFXHeU6qp1XrV31eZt6P50P18Lt37/Sa8GQodfWnnEMbY12tDw4ODrC1tZU7jC+iui/Xrl07afQA9cR4InVZqe/01f6pfG79pEpaKF68eKZlSpQogYiICOzduxcHDhzAgQMHsGLFCvj6+uLIkSOfNbrap8ari/stn/P7n/ocSRcxPX/+HLt27UJKSkqmf5fLly9rJeNk5XMHDx6MBQsW4Ntvv0X16tXh7OwMU1NTLFu2DKtWrfpobEFBQRg0aBCWL18OPz8/LF++HGZmZujYsaNURqFQIDw8HD/++CN27NiBI0eOICQkBOPHj8eWLVtQp06dDNdtaWmJAwcO4NSpU9i9ezeOHDmCgQMHYvz48Th48GCG51pk2NQ7NDFBxLAxQcSAeHh44OHDh7nixHbo0KFYuHAhhg8fjsaNG8PExARXrlzBlStXsGzZMq2hMV+9eqWV+env748pU6Zg69atuHLlCiZOnAggPXFk2bJl2Llzp/TzxxQtWhTHjx9HUlKSxoPDp0+famXXr1q1CkWKFMH27ds1eihkNBxZZhf9Bw8exJMnT3Do0CH4+/tLyxMSErQyXg2d6sQyf/78ePDggczRkC7kyZMHxYoVw7Vr17Ll8yIjI6UhCgEgKSkJ//77L2rUqJHp76hO1JVKZZZ7UulLTEwMHj9+rPHA4dGjR3j79q3GjS0nJ6cM65E7d+5oLcusblFtt6Ojo+zbnVOtWbMGdevWlTsM+kKshz4N66Gc59atW0bzMOPUqVNyh6BTzZs3x/Hjx7Fy5Ur07t07wzJ//PGHVPZTFStWTErG0scxojqmr1+/rvVeRESERhlAf8kimSlevDh2796NW7duZZpEljdvXtjY2GRpG4oWLaqxXJ2qR6iKvr97Q6FKEClVqhQuXbokdziUQ6ja7/z582tM7ZSRT7knAgCdOnXCmjVrsHXrVlhaWuLNmzcaDyxUn3/48GGpI82H5KR6ulixYvD29sbmzZvx6tUrODs7a5V5+fIltmzZgjJlykh1lqpcRvd/7t69q1E/ypFQWrx4cWm028wSCj6lvVGvq1VD3au8X1fnpHNoYzNmzBj88MMPcoehE2/evJGmtDb0zmgkL322f58rJSUF4eHhsLOzyzRRTkWpVKJZs2Zo1qwZAODXX3/F999/j7Vr16J79+7S9l2+fNmo6tRPfY6UVR9qc1etWoWUlBQsXLgQefLk0XgvLS0NXbp0QWhoaKajj33IqlWr0KVLF/z2228ay1XnMx9ja2uLtm3bYu3atZg+fTpWr16Nxo0bZ5gM7uPjAx8fH4wePRr379+Hj48Pxo8fn2mCCJD+vVStWhVVq1YFAFy6dAm+vr6YNm0aQkNDP2FLyRBwihnjwfH1KEeytLTE0KFDERkZKc1DrcqmfD9rMzQ0VGNYI5Xq1avDzMwMEydOhEKhkOaur1WrFlJSUjB16lRYW1t/cIg4lWbNmuHt27dYsGCBxvJp06Zplc0ozoSEBMybN0+rrCqb/f2L/sy2ddq0aUY1eggZtv3792fYa/zOnTuIiIjQGrZbX96fI3fx4sV4+/atNPpQRsqXLw8vLy/MmTMHT58+1Xo/NjY2W4fEf38bZs6cCQAa21C8eHFpaGWV6OhoLFu2TGt9mdUtDRo0gLOzMyZOnKg1dRWQnu2uj55hRPrCekh3WA8RZU2fPn1QsGBBjBw5EpcvX9Z6f8WKFVi9ejVatWqFihUrfvL68+bNi4CAAISFhWWY1JCYmPjRqQo+xM3NDZUrV8aaNWs0hidOSkrCnDlzYG1trXFz2MbGJlsT1Nu1awcACAkJ0bruUdUNpqamCAwMxKFDh3D27Fnp/bS0NEybNg0KhQJNmzYFkD4Nmbu7OxYtWqTxvT169Eirt52+v3siQ9amTRtpRJaUlBSt99Wn9PiUeyJA+rmBi4sLwsPDER4eDgcHBzRp0kSjTIcOHfD27VtMmjQpw3Wof35Oq6cnTJiA2NhYdO7cGUlJSRplk5KS0KVLF8TGxkqdmoD0kVZdXV1x8OBBjfLr1q3TmvrJ1NQUlpaW2V5XJyYmYty4cVrvqf7un9LeBAQEQKlUYu7cuUhOTpbKXr58Gfv27dNYf047h6acicPfk67os/37HMnJyejduzdu3ryJH3744YOj/mQ0hXL58uUBQJqCqXXr1jAzM8O4ceO06k5Dvi7/1OdIn7LezNrc0NBQlChRAn379kWbNm00/gUFBaFOnToIDw9HamrqZ33u+9sSFRWFzZs3Z3kdPXr0wJs3b9C3b188f/4c3bt313j/1atXWp9RsGBB5M2bV9pfMpLReyVLloSlpeUHf48MF9tY48ERRCjH6t27NyZMmIBJkyahXbt28PLygpeXF4YNG4Z79+4hf/78OHPmDDZv3iz1NlBnY2ODihUr4syZM6hYsSIcHBwApI/E4unpicjISNSrV++jvU+A9HnaFi1ahGHDhiEiIgLlypXD0aNHcfz4ca2M0xYtWkhDorZs2RKvXr3C8uXLMzxh8/X1BQCMHj0a7du3h4WFBerUqYNq1aohb9686NKlCwYMGAA7OzscPHgQ586d08pAJZLL4MGD8ebNGzRv3hylS5eGmZkZbty4gdDQUCQnJ2vc4NKnqKgoNG3aFI0aNcL169exYMEClClTBj179sz0d0xMTLB8+XIEBASgVKlS6NmzJ4oXL47Xr1/j6tWr2LhxIy5dupRpz1VdcnJywurVq/H48WP4+fnh1KlTWLlyJerXr4/GjRtL5Xr37o2ZM2eiXr166Nu3L+Lj47FkyRIUKFBA6+LG19cXixYtwoABA9CoUSOYmZmhadOmsLW1xZ9//om2bduiZMmS6NatGwoVKoRnz57h4sWL2Lp1K+Li4mBmxtMDMgysh3SD9RBR1tnb22Pz5s1o1KgRKleujC5duqBSpUpITk7G7t27sX37dvj5+WHp0qWf/RkLFixAtWrV4Ovrix49eqB06dKIi4tDVFQU/vrrL6xdu/aLevjNnj0bderUQZUqVfDtt9/Czs4O4eHhuHDhAubNm6cxV7Svry9WrVqF8ePHo0SJErC1tZWSL4D0nuwrV67M8HPatGkDpVL5SbFVq1YN/fv3x2+//Yb//vsPLVq0gJ2dHa5cuYLHjx9j06ZNAIBJkyZh7969qFevnjSE95YtW3DgwAEMHToUXl5eANJvps6aNQvBwcHw8/NDjx49kJycjIULF8LT01Nr2gd9f/dEOd2OHTvw5MkTreWVK1fG7NmzMXDgQPj4+CA4OBju7u549OgRTp8+jWvXrklJAJ9yTwQAzMzMEBQUhCVLlsDU1BQdO3bUmvIxODgYW7Zswfjx43Hq1CkEBATAzs4O9+7dw+7du1GqVCmpLspp9XTLli0xYcIE/PTTT/D29kaXLl1QsGBBPHjwAGFhYbh16xYmT54s9e5W+fbbbzF+/Hh07twZ1atXx9WrV7Fu3ToUK1ZMKx5fX1/s378fM2bMQIECBeDq6qrR0/fq1asZ1tWmpqZo3779J29/hw4dsHbtWsycORNXr15Fw4YNYWpqivPnz8Pa2hq///47gKy3N87Ozhg3bhxGjhyJWrVqITg4GC9fvsT8+fNRtmxZjdGMctI5NOVc7N2c+3yo/foShQoV0lv79zHqdXdsbCwiIiKwYcMGPHr0CH379sWYMWM++Pv169dHnjx5UL16dRQoUABPnz7FokWLYG1tjZYtW0rb98svv2D48OHw9fVFcHAwXF1dERUVhZMnTxrsaJCf+hzpU2TU5ubNmxcXL17EiBEjMv29li1bYteuXdi9e/cHOxNlpEWLFli2bBlsbGxQvnx53LlzBwsWLEDJkiU/Oo2dSvXq1fH1119j9erVyJs3r1YyblhYGObOnYuWLVvC09MTCoUCW7duxc2bN/HLL79kut4JEyZg//79CAwMRJEiRZCUlIQ1a9YgPj4enTp1+qTtJMPANtaICDIYHh4eAoDw8PDIUev6EocOHRIAxJIlSzJ8f+zYsQKA2LhxoxBCiFu3bommTZsKJycnYWtrK+rVqycuXrwoatWqJWrVqqX1+yNGjBAAxLBhwzSW9+zZUwAQEydOzHKsz549E507dxYODg7C1tZWNGrUSNy4cUMUKlRIdO3aVaPsvHnzRPHixYWlpaUoXLiwGD9+vNi3b58AIA4dOqRRdsyYMcLDw0OYmJhovH/+/HlRu3ZtYWdnJxwdHUXLli3FnTt3Mvw8OehqH8op+6KuVa1aVQAQAMS7d+/kDkcvdu/eLfr06SO8vb2Fo6OjMDMzE+7u7qJ169bi5MmTUrlly5YJAOLu3bvSsq5duwoAIiUlRWOdISEhWmWFEGLBggUCgDh27JjWOh48eCCCgoKEvb29sLOzE8HBweLJkycav6+qS95348YN0bVrV+Hu7i7Mzc2Fm5ubqF69upg2bZqIj4+XytWqVUtrH81omRBCdOzYMcPPUtVH//33n9Y6bty4IRo0aCBsbGyEs7Oz6Nevn4iNjdVax4YNG4SXl5cwNzcXxYoVE/Pnz8/w+01OThb9+vUTrq6uQqFQaL3/999/i9atWwtXV1dhbm4u3N3dRb169cT8+fNFWlqaVA6A6Nixo1Ycxka13wEQ+/fvlzscnVJtV+XKleUORS9YD7EeMia1a9eWjln1v72hO3nypLRdQ4YMkTscnXn69KkYPny48PLyEkqlUtja2opvvvlGzJ07VyQlJWmVz6zOUV0PvX+N8OjRIzFgwABRuHBhYW5uLvLkySN8fX3F2LFjxfPnzz+6XpXM6oOzZ8+Khg0bCjs7O6FUKkXFihXF6tWrtcrdv39fNGrUSNjZ2QkAolChQtJ7qr9rZv8eP34shBDi7t27AoAICQnRWn9m13GLFy8WFSpUEEqlUjg4OIhKlSqJP//8U6NMVFSUaNOmjXB2dhYWFhbC29tb/Prrrxp1iMratWuFt7e3sLCwEEWKFBEzZ84Uf/75Z4b1fVa/+8zqYENnaWkpAAgfHx+5Q9GpmTNnSvvmunXr5A4nx1HVRZn9GzRokBBCiP3794uGDRsKJycnYWFhIQoWLCiaNm0qVq1apbG+T7knIoQQJ06ckD7r4MGDGcaYlpYmFi5cKL755hthY2MjrK2thaenp+jWrZs4ceKEVvmcUk+rHD16VLRq1Uq4ubkJc3Nz4erqKlq2bCmOHj2a4fYmJSWJAQMGiDx58ggrKyvh7+8vLl26lGG9+c8//4gaNWoIa2trAUB6X1X/ZvbP0tJSazszuj+X0X2olJQUMXXqVFGqVClhYWEhnJ2dRc2aNcXWrVs1ymW1vRFCiF9//VUUK1ZMWFhYiJIlS4qwsLAvPocuVKiQqFatWoafR0L89ddf0v4wffp0ucPRmRUrVkjbNXfuXLnDIT3KSvuVUb2Z2XVm165dNc53VXTd/qnqtps3b2p91vt1t4mJiXBwcBBlypQRffr0EadOncrwu3i/rl68eLGoU6eOcHV1FRYWFsLDw0MEBQWJf/75R+t3N2zYIKpVqyasra2FjY2NKFu2rJg6dar0vuqaf9++fZnGu2zZso+WV30X6mWFECIiIkIAEBMmTNBaR1bu42TUVn/Kc6RP2R8yanOHDRsmAGT6txEi/bzExMREtG7d+oPfkSqesWPHSj/HxsaKAQMGCHd3d6FUKkW5cuXEmjVrMmwjM7u+EkKIKVOmCABi8ODBWu9duHBBdOrUSRQpUkRYWVkJR0dHUblyZbF8+fIPficHDx4Ubdq0EQULFhSWlpbCxcVF+Pv7a50PkPEoXry4ACDs7e3lDoW+kEIIAx4rKpcpUKAAHj58CA8PDzx48CDHrItyJ13tQ8a6L1arVg0nT54EALx7905j7knSjW7duiE0NBQpKSkG29Pc398ft27dMqp93xCNGTNGGq56//79qFu3rswR6Y5qftTKlSvj9OnTMkdjfFgPkS7VqVMHhw4dAgDEx8fDyspK5oh049SpU9JcxEOGDPmsOZeJKPsolUokJSXBx8dHo9e+oZs1axaGDRsGIH2ajrZt28ocERGR/DZs2IA2bdoAAKZPn44ffvhB5oh0Y9q0aVJP/vXr10vbSESUm82ePRtDhw7FpUuX4OPjI3c4ZICEELCzs0NcXBy8vLwynG6RDAefWBIRERERERERERERkcHj8PdERJrS0tKwaNEiVKxYkckh9NliY2MRFxcHgO2rMTDMro5ERERERERERERERERqHj9+LL12d3eXMRIiInk9e/YMBw4cwK5duxAVFYV169bJHRIZMLavxoUJIkREREREREREREREZPA4gggRUbrr16+jQ4cOcHZ2RkhICKdZpC/C9tW4MEGEiIgM0vLly7F8+XK5w/gihw8fljsEIvoCrIeIiIiIiIhyFlUPZycnJyiVSpmjISKSj7+/P4QQcodBRoIjiBgXE7kDICIiIiIiIiIiIiIi+hJCCKmHMx9eERER6Y76CCJsYw0fE0SIiIiIiIiIiIiIiMigRUdHIyEhAQCHvyciItIlTjFjXJggQkREREREREREREREBo3D3xMREekH21jjwgQRIiIiIiIiIiIiIiIyaOzdTEREpB9sY40LE0SIiIiIiIiIiIiIiMigsXczERGRfqjaWHt7e9jY2MgcDX0pJogQEREREREREREREZFBU+/dzAQRIiIi3RBCSG0s21fjwAQRIiIiIiIiIiIiIiIyaBz+noiISPdiY2MRFxcHgO2rsWCCCBERERERERERERERGTROMUNERKR7bF+NDxNEiIiIiIiIiIiIiIjIoHEEESIiIt1j+2p8mCBCREREREREREREREQGTdXD2cnJCUqlUuZoiIiIjANHEDE+TBAhIiIiIiIiIiIiIiKDJYSQejjz4RUREZHuqI8gwjbWODBBhIiIiIiIiIiIiIiIDFZ0dDQSEhIAcPh7IiIiXeIUM8aHCSJERERERERERERERGSwOPw9ERGRfrCNNT5MECEiIiIiIiIiIiIiIoPF3s1ERET6wTbW+DBBhIiIiIiIiIiIiIiIDBZ7NxMREemHqo21t7eHjY2NzNGQLjBBhIiIiIiIiIiIiIiIDJZ672YmiBAREemGEEJqY9m+Gg8miBAR6ZkQQu4QiOgD0tLSpNcKhULGSHRPtT3q20hEOZOxni+o16usi4hyPlVdZGznROqMtb4lIvpUxnYtzOHviYiIdC82NhZxcXEA2L4aEyaIEBHpgZWVlfRa1XgSUc6kfoyqH7vGQLU9rIeIcj7VcapQKGBpaSlzNLrDcyIiw5GSkoLk5GQAxntOBLAuIiJSMbZrYU4xQ0REpHtsX40TE0SIiPTAzc1Nev3w4UMZIyGij1HvZaR+7BoDV1dXAJrbSEQ5k+p8IW/evDAxMZ7LNPV6lXURUc6mfuPP2M6JeH1GRKTN2K6FOYIIERGR7rF9NU7Gc+eRiCgH8fT0lF5HRETIGAkRfcz169cBAObm5ihYsKDM0eiWqi568+aNxkMfIspZ3rx5I11wq59DGAM3NzfY2NgA+L/6lohypmvXrkmvixUrJmMkusfrMyIibernZsZQ76uueZ2cnKBUKmWOhoiIyDhwBBHjxAQRIiI9qFChgvT6xIkTMkZCRB/y6tUr6SFBmTJlYG5uLnNEuqVeF508eVLGSIjoQ06dOiW9Vj9ujYFCoUD58uUBAP/++y9HESHKwdTPFSpWrChjJLrn5eUlPSw8ceIEhBAyR0REJC8hhHS/ytLSEqVKlZI5oi8jhJDOM/nwioiISHfU7+OwjTUeTBAhItKD6tWrS8PD79ixgzcgiXKoXbt2Scenv7+/vMHogfo27dixQ75AiOiD1I9P1kVEJBf147NmzZoyRqJ7FhYWqFq1KgDg3r17HNGIiHK9iIgI/PvvvwCAqlWrwsLCQt6AvlB0dDQSEhIAcPh7IiIiXeIUM8aJCSJERHqQJ08eVK9eHQAQFRWFv//+W+aIiCgjK1eulF43a9ZMxkj0w9/fH7a2tgCADRs2IC4uTuaIiOh9SUlJWLt2LYD03psBAQEyR6R76vWrer1LRDnHtWvXcPHiRQDpo4d4eHjIHJHuNW/eXHq9YsUKGSMhIpKfsV0Lc/h7IiIi/WAba5yYIEJEpCedO3eWXs+ZM0e+QIgoQxEREdi9ezcAoHDhwqhRo4bMEemelZUVgoKCAAAxMTFYvny5vAERkZZVq1bhxYsXAICWLVvC3t5e5oh0z9fXF15eXgCAo0eP4sKFCzJHRETvU79e6dKli3yB6FG7du1gZmYGAFiyZAnevn0rc0RERPKIi4vD4sWLAQBmZmYIDg6WOaIvx97NRERE+sE21jgxQYSISE86dOiAPHnyAADWrFmDq1evyhwREan76aefpNcDBgyQpoUyNgMHDpReT548maOIEOUgiYmJmDBhgvSz+vFqTBQKBb7//nvp5zFjxsgYDRG97+bNm1ISqb29Pbp27SpvQHri5uYmPQR99eoVk/iJKNeaM2cOXr58CSA9eS5fvnwyR/Tl2LuZiIhIP1RtrL29PWxsbGSOhnTFOJ+EEBHlANbW1hg+fDgAIC0tDd9++y3evXsnc1REBAC7d+/Ghg0bAKQ/LOjbt6/MEelPuXLlpCHVHz16hLFjx8ocERGp/PLLL7h79y4AICAgAFWrVpU5Iv3p3r07ChYsCADYtWsXNm7cKHNERAQAQgj0798fqampAIAhQ4bAwcFB5qj0JyQkBKampgDSE2dv374tc0RERNnrzp07mDx5MgDAxMTEaBJ31Xs3M0GEiIhIN4QQUhvL9tW4MEGEiEiPBg0ahGLFigEAjh8/jilTpsgcERE9efIE3bt3l37+5ZdfYGtrK2NE+jd9+nRYWloCAGbNmoX9+/fLHBERHT9+HJMmTQKQPrT3zJkzZY5Iv5RKJaZPny793KdPH/z3338yRkREQHov8n379gEAChQogB9++EHmiPTLy8sLAwYMAAAkJCSgY8eOSEpKkjkqIqLskZycjI4dOyI+Ph4A0L9/f2kaQEPH4e+JiIh0LzY2VhqNmu2rcWGCCBGRHimVSvz5559QKBQA0qe0UI1aQETZLy4uDi1atMCTJ08AAA0aNEC3bt3kDSobFC9eXJrGQgiBoKAgREREyBwVUe51+/ZttGrVShpZLCQkBGXKlJE5Kv0LCgpCixYtAAAvX75Es2bNEBMTI29QRLnYzp07pREPAWDp0qVGnzQLABMnTkTRokUBAGfOnEHv3r2RlpYmc1RERPqVlpaG3r174/Tp0wCAIkWKSMnKxoBTzBAREeke21fjxQQRIiI9q1mzJv73v/8BSH8w2759e2zatEnmqIhyn5iYGDRp0gRnzpwBkN5LNjQ0VErgMnbDhg1DkyZNAACvX79G3bp1ce3aNZmjIsp9bty4gdq1a+P58+cAgDp16hjN0N4fo1Ao8Mcff6BIkSIAgEuXLqFhw4Z4/fq1zJER5T47d+5E69atpUS1UaNGoUGDBjJHlT1sbW2xfv16KJVKAMCKFSvQt29fTgdKREbr3bt36NevH8LCwgCkd2Zav3497OzsZI5MdziCCBERke6xfTVeTBAhIsoGISEh6Nq1KwAgJSUFrVu3xtSpU9lTjSib3Lx5E9WqVcORI0cAAI6Ojti+fTvc3Nxkjiz7mJiYYNWqVahQoQKA9AzwatWqYfv27TJHRpR77Nu3D1WqVJGmVildujT++usvmJmZyRxZ9nF2dsbOnTuRJ08eAMCpU6dQpUoVXL9+XebIiHIHIQTmzp2LZs2aITExEQDQrl07TJw4UebIsleFChWwatUqmJik3xZbunQpmjZtilevXskcGRGRbr169QrNmjXDkiVLAKRfF4aHh6NixYoyR6Zbqh7OTk5OUgIgERERfRmOIGK8mCBCRJQNFAoFli5dii5dugBIvzE7cuRIBAQE4MaNGzJHR2S8UlNTMW/ePJQvXx5Xr14FkP5wcu/evfDx8ZE5uuxnb2+PvXv3wtfXFwAQHR2Npk2bom/fvnwgQqRHb968wcCBA1G/fn3pWCtbtiz2798PJycnmaPLfl5eXjhw4ABcXV0BAFFRUahYsSKmT5+O5ORkmaMjMl537txB48aNMXjwYGm0jLZt22LFihVSokRu0rJlS6xatUpK0tu1axfKlCmDTZs2QQghc3RERF9GCIFNmzahTJky2LlzJwDAzMwM4eHhaNWqlczR6ZYQQurhzIdXREREuqM+ggjbWOOS++4AEBHJxMzMDMuWLcO4ceOkZQcPHoS3tzd69+7NnrNEOpSQkIBly5bB29sbgwYNQlxcHID0h5KnTp1CpUqVZI5QPnny5MGhQ4c0bgouXrwYxYoVw7hx4/D06VMZoyMyLs+fP8ekSZPg6emJ+fPnS8ubNGmCo0eP5qpRjN7n4+OD06dPo2zZsgCAxMRE/PjjjyhZsiSWLFki1dtE9OVu3LiB7777DiVLlsTu3bul5SNGjMDq1athbm4uY3TyateuHfbu3QsXFxcA6TdAW7VqhRo1amD79u2cdoaIDM67d++wY8cO1KxZE61atZIe7OTJkwd79uxBcHCwzBHqXnR0NBISEgBw+HsiIiJd4hQzxksh2C3CYBQoUAAPHz6Eh4cHHjx4kGPWRbmTrvah3LovHjhwAD169MD9+/c1lvv6+iIwMBDVq1eHt7c3XF1dc2VvPqJPlZCQgNu3b+Pvv//GgQMHsHXrVsTExGiU6devH6ZPnw5bW1uZosxZhBBYuHAhfvzxR7x9+1Zabmpqinr16qFhw4bw8/ODl5cXHBwcoFAoZIyWKOcTQiAmJgZRUVE4c+YMdu/ejX379iElJUUqY2VlhcmTJ+P7779n+/7/JSQkYNSoUZg3b55Gj31bW1sEBgYiICAAvr6+8PT0hLW1tYyREhkGIQSePXuG69ev48SJE9i+fTvOnDmjUcbDwwOLFy9G48aNZYoy53n06BF69eqFXbt2aSx3d3dH8+bNUbt2bZQvXx6FChXK1Qk1RJTzpKSk4N69e7h06RIOHTqEzZs3azzMAYCGDRti6dKl8PDwkClK/YqIiECpUqUAAF26dEFoaKjMERERERmH9u3bY82aNQDSp3D39PSUOSLSFSaIGBDVg3QTE5MvztR6/Pgx0tLSdLIuyp10tQ+p1pPbEkQAIC4uDjNmzMCsWbO0HmSrmJqawsbGhg+RiDIhhEBKSgri4+MzLVOzZk1MnToVfn5+2RiZ4Xj48CF++uknhIWFZdpL1sLCAlZWVkwSIcqEEAKJiYlISkrK8H0TExN06NABEydORKFChbI5OsNw/vx5jBgxAgcOHMi0jLW1NczNzVkXEWUiLS0N8fHxSE1NzfB9GxsbDBo0CCNHjoSdnV02R5fzCSGwefNmhISEICIiItNytra20rQ0RERySk1N1Uj2f5+XlxcmTZqEli1bGvX504EDB1CvXj0A6deuTComIiLSjbdv30rXl2/fvoWNjY3MEZGuMEHEgJQsWRKRkZFyh0GkF15eXh+8CWfMoqOjsXz5coSGhuLixYtyh0NkFOzt7dGyZUv07dsXVapUkTscg3Dv3j0sWrQI4eHhWqMbEdHn8fDwQIcOHdCvXz8ULVpU7nAMwt9//42FCxdiw4YNePPmjdzhEBmFsmXLonPnzujRowecnZ3lDifHS0tLw44dO7B06VLs3r0bycnJcodERJRlFhYWaNCgAXr16oXAwMBc0eFo+/btaNq0qdxhEBERGS1XV1dOS25kmCBiQP766y/89NNPiI2N/eJ1JSQkIDY2FnZ2drCystJBdJTb6HIfsrOzw4QJE9CmTRsdRWe47t+/j8OHD+P8+fO4efMmnj59iri4OLnDIsrRzMzM4OTkhK+++gqlS5dG1apVUaVKFVhYWMgdmkESQuDq1as4evQoLl++jDt37uD58+eZjoxAROksLS2RJ08eFC1aFD4+PqhRowZ8fHyMuremPqWkpODMmTM4efIkrly5gnv37uHVq1eZjoxAROmsra3h5uYGT09PVKxYEbVq1UKRIkXkDstgxcbG4tixYzh9+jQiIiLw4MEDREdHIy0tTe7QiIhgYmICBwcHFChQACVLlkTlypVRs2bNXDdKVHx8PHr27MlOV0RERHpgZWWFkSNHol27dnKHQjrEBBEiIiIiIiIiIiIiIiIiIiIiI2f8Y8wRERERERERERERERERERER5XJMECEiIiIiIiIiIiIiIiIiIiIyckwQISIiIiIiIiIiIiIiIiIiIjJyTBAhIiIiIiIiIiIiIiIiIiIiMnJMECEiIiIiIiIiIiIiIiIiIiIyckwQISIiIiIiIiIiIiIiIiIiIjJyTBAhIiIiIiIiIiIiIiIiIiIiMnJMECEiIiIiIiIiIiIiIiIiIiIyckwQISIiIiIiIiIiIiIiIiIiIjJyTBAhIiIiIiIiIiIiIiIiIiIiMnJMECEiIiIiIiIiIiIiIiIiIiIyckwQISIiIiIiIiIiIiIiIiIiIjJy/w9sHRmfjA7v8gAAAABJRU5ErkJggg==\n",
          "text/plain": "<Figure size 2200x600 with 1 Axes>"
         },
         "metadata": {},
         "output_type": "display_data"
        }
       ]
      }
     },
     "c6c4dc02bc6f431b9b8ab81fc6ead9bc": {
      "model_module": "@jupyter-widgets/controls",
      "model_module_version": "1.5.0",
      "model_name": "HTMLModel",
      "state": {
       "_dom_classes": [],
       "_model_module": "@jupyter-widgets/controls",
       "_model_module_version": "1.5.0",
       "_model_name": "HTMLModel",
       "_view_count": null,
       "_view_module": "@jupyter-widgets/controls",
       "_view_module_version": "1.5.0",
       "_view_name": "HTMLView",
       "description": "",
       "description_tooltip": null,
       "layout": "IPY_MODEL_5548ebb447fb4fcaa700134041e7a423",
       "placeholder": "​",
       "style": "IPY_MODEL_0d3be96ba9054ca985140451d402e9dc",
       "value": " 69/69 [01:11&lt;00:00,  1.30s/it]"
      }
     },
     "e434a300569f417aa4b0128b7bec6fbc": {
      "model_module": "@jupyter-widgets/base",
      "model_module_version": "1.2.0",
      "model_name": "LayoutModel",
      "state": {
       "_model_module": "@jupyter-widgets/base",
       "_model_module_version": "1.2.0",
       "_model_name": "LayoutModel",
       "_view_count": null,
       "_view_module": "@jupyter-widgets/base",
       "_view_module_version": "1.2.0",
       "_view_name": "LayoutView",
       "align_content": null,
       "align_items": null,
       "align_self": null,
       "border": null,
       "bottom": null,
       "display": null,
       "flex": null,
       "flex_flow": null,
       "grid_area": null,
       "grid_auto_columns": null,
       "grid_auto_flow": null,
       "grid_auto_rows": null,
       "grid_column": null,
       "grid_gap": null,
       "grid_row": null,
       "grid_template_areas": null,
       "grid_template_columns": null,
       "grid_template_rows": null,
       "height": null,
       "justify_content": null,
       "justify_items": null,
       "left": null,
       "margin": null,
       "max_height": null,
       "max_width": null,
       "min_height": null,
       "min_width": null,
       "object_fit": null,
       "object_position": null,
       "order": null,
       "overflow": null,
       "overflow_x": null,
       "overflow_y": null,
       "padding": null,
       "right": null,
       "top": null,
       "visibility": null,
       "width": null
      }
     },
     "f1876d1f4c2447af9db56a544bfe76b6": {
      "model_module": "@jupyter-widgets/base",
      "model_module_version": "1.2.0",
      "model_name": "LayoutModel",
      "state": {
       "_model_module": "@jupyter-widgets/base",
       "_model_module_version": "1.2.0",
       "_model_name": "LayoutModel",
       "_view_count": null,
       "_view_module": "@jupyter-widgets/base",
       "_view_module_version": "1.2.0",
       "_view_name": "LayoutView",
       "align_content": null,
       "align_items": null,
       "align_self": null,
       "border": null,
       "bottom": null,
       "display": null,
       "flex": null,
       "flex_flow": null,
       "grid_area": null,
       "grid_auto_columns": null,
       "grid_auto_flow": null,
       "grid_auto_rows": null,
       "grid_column": null,
       "grid_gap": null,
       "grid_row": null,
       "grid_template_areas": null,
       "grid_template_columns": null,
       "grid_template_rows": null,
       "height": null,
       "justify_content": null,
       "justify_items": null,
       "left": null,
       "margin": null,
       "max_height": null,
       "max_width": null,
       "min_height": null,
       "min_width": null,
       "object_fit": null,
       "object_position": null,
       "order": null,
       "overflow": null,
       "overflow_x": null,
       "overflow_y": null,
       "padding": null,
       "right": null,
       "top": null,
       "visibility": null,
       "width": null
      }
     }
    },
    "version_major": 2,
    "version_minor": 0
   }
  }
 },
 "nbformat": 4,
 "nbformat_minor": 5
}
