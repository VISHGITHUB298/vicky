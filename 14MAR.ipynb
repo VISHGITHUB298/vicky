{
 "cells": [
  {
   "cell_type": "code",
   "execution_count": 2,
   "id": "0c4872ee",
   "metadata": {},
   "outputs": [],
   "source": [
    "#manav mangukiya\n",
    "import pandas as pd\n",
    "import numpy as np\n"
   ]
  },
  {
   "cell_type": "code",
   "execution_count": 3,
   "id": "478af728",
   "metadata": {},
   "outputs": [],
   "source": [
    "cf_train=pd.read_csv('counterfeit_train.csv')\n",
    "cf_test=pd.read_csv('counterfeit_test.csv')"
   ]
  },
  {
   "cell_type": "code",
   "execution_count": 4,
   "id": "8cbdc571",
   "metadata": {},
   "outputs": [],
   "source": [
    "cf_test['Counterfeit_Sales']=np.nan\n",
    "cf_train['data']='train'\n",
    "cf_test['data']='test'\n",
    "cf_test=cf_test[cf_train.columns]\n",
    "cf_all=pd.concat([cf_train,cf_test],axis=0,ignore_index=True)"
   ]
  },
  {
   "cell_type": "code",
   "execution_count": 5,
   "id": "08e4d3b0",
   "metadata": {},
   "outputs": [
    {
     "data": {
      "text/plain": [
       "(8523, 13)"
      ]
     },
     "execution_count": 5,
     "metadata": {},
     "output_type": "execute_result"
    }
   ],
   "source": [
    "cf_all.shape"
   ]
  },
  {
   "cell_type": "code",
   "execution_count": 6,
   "id": "205e0a40",
   "metadata": {},
   "outputs": [
    {
     "data": {
      "text/plain": [
       "Antibiotics           1232\n",
       "Hreplacements         1200\n",
       "Antiseptics            910\n",
       "OralContraceptives     856\n",
       "Antipyretics           682\n",
       "Cardiac                649\n",
       "Mstablizers            648\n",
       "Tranquilizers          520\n",
       "Analgesics             445\n",
       "Antimalarial           425\n",
       "Antacids               251\n",
       "Statins                214\n",
       "MuscleRelaxants        169\n",
       "Antifungal             148\n",
       "Stimulants             110\n",
       "Antiviral               64\n",
       "Name: Medicine_Type, dtype: int64"
      ]
     },
     "execution_count": 6,
     "metadata": {},
     "output_type": "execute_result"
    }
   ],
   "source": [
    "cf_all['Medicine_Type'].value_counts()"
   ]
  },
  {
   "cell_type": "code",
   "execution_count": 7,
   "id": "23d815eb",
   "metadata": {},
   "outputs": [],
   "source": [
    "cf_all['sideffect']=np.where(cf_all['SidEffect_Level']=='mild',1,0)\n",
    "cf_all=cf_all.drop('SidEffect_Level',axis=1)\n"
   ]
  },
  {
   "cell_type": "code",
   "execution_count": 8,
   "id": "35022112",
   "metadata": {},
   "outputs": [
    {
     "data": {
      "text/plain": [
       "DownTown              5577\n",
       "MidTownResidential    1083\n",
       "CityLimits             935\n",
       "Industrial             928\n",
       "Name: Area_Type, dtype: int64"
      ]
     },
     "execution_count": 8,
     "metadata": {},
     "output_type": "execute_result"
    }
   ],
   "source": [
    "cf_all['Area_Type'].value_counts()\n"
   ]
  },
  {
   "cell_type": "code",
   "execution_count": 9,
   "id": "26571059",
   "metadata": {},
   "outputs": [
    {
     "data": {
      "text/html": [
       "<div>\n",
       "<style scoped>\n",
       "    .dataframe tbody tr th:only-of-type {\n",
       "        vertical-align: middle;\n",
       "    }\n",
       "\n",
       "    .dataframe tbody tr th {\n",
       "        vertical-align: top;\n",
       "    }\n",
       "\n",
       "    .dataframe thead th {\n",
       "        text-align: right;\n",
       "    }\n",
       "</style>\n",
       "<table border=\"1\" class=\"dataframe\">\n",
       "  <thead>\n",
       "    <tr style=\"text-align: right;\">\n",
       "      <th></th>\n",
       "      <th>Medicine_ID</th>\n",
       "      <th>Counterfeit_Weight</th>\n",
       "      <th>DistArea_ID</th>\n",
       "      <th>Active_Since</th>\n",
       "      <th>Medicine_MRP</th>\n",
       "      <th>Medicine_Type</th>\n",
       "      <th>Availability_rating</th>\n",
       "      <th>Area_Type</th>\n",
       "      <th>Area_City_Type</th>\n",
       "      <th>Area_dist_level</th>\n",
       "      <th>Counterfeit_Sales</th>\n",
       "      <th>data</th>\n",
       "      <th>sideffect</th>\n",
       "    </tr>\n",
       "  </thead>\n",
       "  <tbody>\n",
       "    <tr>\n",
       "      <th>0</th>\n",
       "      <td>RRA15</td>\n",
       "      <td>13.100</td>\n",
       "      <td>Area046</td>\n",
       "      <td>1995</td>\n",
       "      <td>160.2366</td>\n",
       "      <td>Antimalarial</td>\n",
       "      <td>0.070422</td>\n",
       "      <td>DownTown</td>\n",
       "      <td>Tier 1</td>\n",
       "      <td>Small</td>\n",
       "      <td>1775.5026</td>\n",
       "      <td>train</td>\n",
       "      <td>0</td>\n",
       "    </tr>\n",
       "    <tr>\n",
       "      <th>1</th>\n",
       "      <td>YVV26</td>\n",
       "      <td>NaN</td>\n",
       "      <td>Area027</td>\n",
       "      <td>1983</td>\n",
       "      <td>110.4384</td>\n",
       "      <td>Mstablizers</td>\n",
       "      <td>0.013000</td>\n",
       "      <td>CityLimits</td>\n",
       "      <td>Tier 3</td>\n",
       "      <td>Medium</td>\n",
       "      <td>3069.1520</td>\n",
       "      <td>train</td>\n",
       "      <td>1</td>\n",
       "    </tr>\n",
       "    <tr>\n",
       "      <th>2</th>\n",
       "      <td>LJC15</td>\n",
       "      <td>9.025</td>\n",
       "      <td>Area046</td>\n",
       "      <td>1995</td>\n",
       "      <td>259.4092</td>\n",
       "      <td>Cardiac</td>\n",
       "      <td>0.060783</td>\n",
       "      <td>DownTown</td>\n",
       "      <td>Tier 1</td>\n",
       "      <td>Small</td>\n",
       "      <td>2603.0920</td>\n",
       "      <td>train</td>\n",
       "      <td>1</td>\n",
       "    </tr>\n",
       "    <tr>\n",
       "      <th>3</th>\n",
       "      <td>GWC40</td>\n",
       "      <td>11.800</td>\n",
       "      <td>Area046</td>\n",
       "      <td>1995</td>\n",
       "      <td>99.9830</td>\n",
       "      <td>OralContraceptives</td>\n",
       "      <td>0.065555</td>\n",
       "      <td>DownTown</td>\n",
       "      <td>Tier 1</td>\n",
       "      <td>Small</td>\n",
       "      <td>1101.7130</td>\n",
       "      <td>train</td>\n",
       "      <td>1</td>\n",
       "    </tr>\n",
       "    <tr>\n",
       "      <th>4</th>\n",
       "      <td>QMN13</td>\n",
       "      <td>NaN</td>\n",
       "      <td>Area019</td>\n",
       "      <td>1983</td>\n",
       "      <td>56.4402</td>\n",
       "      <td>Hreplacements</td>\n",
       "      <td>0.248859</td>\n",
       "      <td>MidTownResidential</td>\n",
       "      <td>Tier 1</td>\n",
       "      <td>Small</td>\n",
       "      <td>158.9402</td>\n",
       "      <td>train</td>\n",
       "      <td>0</td>\n",
       "    </tr>\n",
       "  </tbody>\n",
       "</table>\n",
       "</div>"
      ],
      "text/plain": [
       "  Medicine_ID  Counterfeit_Weight DistArea_ID  Active_Since  Medicine_MRP  \\\n",
       "0       RRA15              13.100     Area046          1995      160.2366   \n",
       "1       YVV26                 NaN     Area027          1983      110.4384   \n",
       "2       LJC15               9.025     Area046          1995      259.4092   \n",
       "3       GWC40              11.800     Area046          1995       99.9830   \n",
       "4       QMN13                 NaN     Area019          1983       56.4402   \n",
       "\n",
       "        Medicine_Type  Availability_rating           Area_Type Area_City_Type  \\\n",
       "0        Antimalarial             0.070422            DownTown         Tier 1   \n",
       "1         Mstablizers             0.013000          CityLimits         Tier 3   \n",
       "2             Cardiac             0.060783            DownTown         Tier 1   \n",
       "3  OralContraceptives             0.065555            DownTown         Tier 1   \n",
       "4       Hreplacements             0.248859  MidTownResidential         Tier 1   \n",
       "\n",
       "  Area_dist_level  Counterfeit_Sales   data  sideffect  \n",
       "0           Small          1775.5026  train          0  \n",
       "1          Medium          3069.1520  train          1  \n",
       "2           Small          2603.0920  train          1  \n",
       "3           Small          1101.7130  train          1  \n",
       "4           Small           158.9402  train          0  "
      ]
     },
     "execution_count": 9,
     "metadata": {},
     "output_type": "execute_result"
    }
   ],
   "source": [
    "cf_all.head(5)"
   ]
  },
  {
   "cell_type": "code",
   "execution_count": 10,
   "id": "c2ada30f",
   "metadata": {},
   "outputs": [],
   "source": [
    "cf_all['DT']=np.where(cf_all['Area_Type']=='DownTown',1,0)\n",
    "cf_all['MTR']=np.where(cf_all['Area_Type']=='MidTownResidential',1,0)\n",
    "cf_all['AreaName']=np.where(cf_all['Area_Type']=='CityLimits',1,0)\n",
    "cf_all=cf_all.drop('Area_Type',axis=1)"
   ]
  },
  {
   "cell_type": "code",
   "execution_count": 11,
   "id": "03e0b9d2",
   "metadata": {},
   "outputs": [
    {
     "data": {
      "text/html": [
       "<div>\n",
       "<style scoped>\n",
       "    .dataframe tbody tr th:only-of-type {\n",
       "        vertical-align: middle;\n",
       "    }\n",
       "\n",
       "    .dataframe tbody tr th {\n",
       "        vertical-align: top;\n",
       "    }\n",
       "\n",
       "    .dataframe thead th {\n",
       "        text-align: right;\n",
       "    }\n",
       "</style>\n",
       "<table border=\"1\" class=\"dataframe\">\n",
       "  <thead>\n",
       "    <tr style=\"text-align: right;\">\n",
       "      <th></th>\n",
       "      <th>Medicine_ID</th>\n",
       "      <th>Counterfeit_Weight</th>\n",
       "      <th>DistArea_ID</th>\n",
       "      <th>Active_Since</th>\n",
       "      <th>Medicine_MRP</th>\n",
       "      <th>Medicine_Type</th>\n",
       "      <th>Availability_rating</th>\n",
       "      <th>Area_City_Type</th>\n",
       "      <th>Area_dist_level</th>\n",
       "      <th>Counterfeit_Sales</th>\n",
       "      <th>data</th>\n",
       "      <th>sideffect</th>\n",
       "      <th>DT</th>\n",
       "      <th>MTR</th>\n",
       "      <th>AreaName</th>\n",
       "    </tr>\n",
       "  </thead>\n",
       "  <tbody>\n",
       "    <tr>\n",
       "      <th>0</th>\n",
       "      <td>RRA15</td>\n",
       "      <td>13.100</td>\n",
       "      <td>Area046</td>\n",
       "      <td>1995</td>\n",
       "      <td>160.2366</td>\n",
       "      <td>Antimalarial</td>\n",
       "      <td>0.070422</td>\n",
       "      <td>Tier 1</td>\n",
       "      <td>Small</td>\n",
       "      <td>1775.5026</td>\n",
       "      <td>train</td>\n",
       "      <td>0</td>\n",
       "      <td>1</td>\n",
       "      <td>0</td>\n",
       "      <td>0</td>\n",
       "    </tr>\n",
       "    <tr>\n",
       "      <th>1</th>\n",
       "      <td>YVV26</td>\n",
       "      <td>NaN</td>\n",
       "      <td>Area027</td>\n",
       "      <td>1983</td>\n",
       "      <td>110.4384</td>\n",
       "      <td>Mstablizers</td>\n",
       "      <td>0.013000</td>\n",
       "      <td>Tier 3</td>\n",
       "      <td>Medium</td>\n",
       "      <td>3069.1520</td>\n",
       "      <td>train</td>\n",
       "      <td>1</td>\n",
       "      <td>0</td>\n",
       "      <td>0</td>\n",
       "      <td>1</td>\n",
       "    </tr>\n",
       "    <tr>\n",
       "      <th>2</th>\n",
       "      <td>LJC15</td>\n",
       "      <td>9.025</td>\n",
       "      <td>Area046</td>\n",
       "      <td>1995</td>\n",
       "      <td>259.4092</td>\n",
       "      <td>Cardiac</td>\n",
       "      <td>0.060783</td>\n",
       "      <td>Tier 1</td>\n",
       "      <td>Small</td>\n",
       "      <td>2603.0920</td>\n",
       "      <td>train</td>\n",
       "      <td>1</td>\n",
       "      <td>1</td>\n",
       "      <td>0</td>\n",
       "      <td>0</td>\n",
       "    </tr>\n",
       "    <tr>\n",
       "      <th>3</th>\n",
       "      <td>GWC40</td>\n",
       "      <td>11.800</td>\n",
       "      <td>Area046</td>\n",
       "      <td>1995</td>\n",
       "      <td>99.9830</td>\n",
       "      <td>OralContraceptives</td>\n",
       "      <td>0.065555</td>\n",
       "      <td>Tier 1</td>\n",
       "      <td>Small</td>\n",
       "      <td>1101.7130</td>\n",
       "      <td>train</td>\n",
       "      <td>1</td>\n",
       "      <td>1</td>\n",
       "      <td>0</td>\n",
       "      <td>0</td>\n",
       "    </tr>\n",
       "    <tr>\n",
       "      <th>4</th>\n",
       "      <td>QMN13</td>\n",
       "      <td>NaN</td>\n",
       "      <td>Area019</td>\n",
       "      <td>1983</td>\n",
       "      <td>56.4402</td>\n",
       "      <td>Hreplacements</td>\n",
       "      <td>0.248859</td>\n",
       "      <td>Tier 1</td>\n",
       "      <td>Small</td>\n",
       "      <td>158.9402</td>\n",
       "      <td>train</td>\n",
       "      <td>0</td>\n",
       "      <td>0</td>\n",
       "      <td>1</td>\n",
       "      <td>0</td>\n",
       "    </tr>\n",
       "  </tbody>\n",
       "</table>\n",
       "</div>"
      ],
      "text/plain": [
       "  Medicine_ID  Counterfeit_Weight DistArea_ID  Active_Since  Medicine_MRP  \\\n",
       "0       RRA15              13.100     Area046          1995      160.2366   \n",
       "1       YVV26                 NaN     Area027          1983      110.4384   \n",
       "2       LJC15               9.025     Area046          1995      259.4092   \n",
       "3       GWC40              11.800     Area046          1995       99.9830   \n",
       "4       QMN13                 NaN     Area019          1983       56.4402   \n",
       "\n",
       "        Medicine_Type  Availability_rating Area_City_Type Area_dist_level  \\\n",
       "0        Antimalarial             0.070422         Tier 1           Small   \n",
       "1         Mstablizers             0.013000         Tier 3          Medium   \n",
       "2             Cardiac             0.060783         Tier 1           Small   \n",
       "3  OralContraceptives             0.065555         Tier 1           Small   \n",
       "4       Hreplacements             0.248859         Tier 1           Small   \n",
       "\n",
       "   Counterfeit_Sales   data  sideffect  DT  MTR  AreaName  \n",
       "0          1775.5026  train          0   1    0         0  \n",
       "1          3069.1520  train          1   0    0         1  \n",
       "2          2603.0920  train          1   1    0         0  \n",
       "3          1101.7130  train          1   1    0         0  \n",
       "4           158.9402  train          0   0    1         0  "
      ]
     },
     "execution_count": 11,
     "metadata": {},
     "output_type": "execute_result"
    }
   ],
   "source": [
    "cf_all.head(5)"
   ]
  },
  {
   "cell_type": "code",
   "execution_count": 12,
   "id": "e316399e",
   "metadata": {},
   "outputs": [],
   "source": [
    "cf_all['T3']=np.where(cf_all['Area_City_Type']=='Tier 3',1,0)\n",
    "cf_all['T2']=np.where(cf_all['Area_City_Type']=='Tier 2',1,0)\n",
    "cf_all=cf_all.drop(['Area_City_Type'],axis=1)"
   ]
  },
  {
   "cell_type": "code",
   "execution_count": 13,
   "id": "ea26046d",
   "metadata": {},
   "outputs": [],
   "source": [
    "cf_all['medium']=np.where(cf_all['Area_dist_level']=='Medium',1,0)\n",
    "cf_all['unknown']=np.where(cf_all['Area_dist_level']=='Unknown',1,0)\n",
    "cf_all['small']=np.where(cf_all['Area_dist_level']=='Small',1,0)\n",
    "cf_all=cf_all.drop('Area_dist_level',axis=1)"
   ]
  },
  {
   "cell_type": "code",
   "execution_count": 14,
   "id": "a5339c3b",
   "metadata": {},
   "outputs": [],
   "source": [
    "cat_cols=cf_all.select_dtypes(['object']).columns"
   ]
  },
  {
   "cell_type": "code",
   "execution_count": 15,
   "id": "0936cf02",
   "metadata": {},
   "outputs": [
    {
     "data": {
      "text/plain": [
       "Index(['Medicine_ID', 'DistArea_ID', 'Medicine_Type', 'data'], dtype='object')"
      ]
     },
     "execution_count": 15,
     "metadata": {},
     "output_type": "execute_result"
    }
   ],
   "source": [
    "cat_cols"
   ]
  },
  {
   "cell_type": "code",
   "execution_count": 16,
   "id": "b212eb66",
   "metadata": {},
   "outputs": [],
   "source": [
    "\n",
    "MT_dummies=pd.get_dummies(cf_all['Medicine_Type'],prefix='MM')"
   ]
  },
  {
   "cell_type": "code",
   "execution_count": 17,
   "id": "8c17dbe0",
   "metadata": {},
   "outputs": [
    {
     "data": {
      "text/html": [
       "<div>\n",
       "<style scoped>\n",
       "    .dataframe tbody tr th:only-of-type {\n",
       "        vertical-align: middle;\n",
       "    }\n",
       "\n",
       "    .dataframe tbody tr th {\n",
       "        vertical-align: top;\n",
       "    }\n",
       "\n",
       "    .dataframe thead th {\n",
       "        text-align: right;\n",
       "    }\n",
       "</style>\n",
       "<table border=\"1\" class=\"dataframe\">\n",
       "  <thead>\n",
       "    <tr style=\"text-align: right;\">\n",
       "      <th></th>\n",
       "      <th>MM_Analgesics</th>\n",
       "      <th>MM_Antacids</th>\n",
       "      <th>MM_Antibiotics</th>\n",
       "      <th>MM_Antifungal</th>\n",
       "      <th>MM_Antimalarial</th>\n",
       "      <th>MM_Antipyretics</th>\n",
       "      <th>MM_Antiseptics</th>\n",
       "      <th>MM_Antiviral</th>\n",
       "      <th>MM_Cardiac</th>\n",
       "      <th>MM_Hreplacements</th>\n",
       "      <th>MM_Mstablizers</th>\n",
       "      <th>MM_MuscleRelaxants</th>\n",
       "      <th>MM_OralContraceptives</th>\n",
       "      <th>MM_Statins</th>\n",
       "      <th>MM_Stimulants</th>\n",
       "      <th>MM_Tranquilizers</th>\n",
       "    </tr>\n",
       "  </thead>\n",
       "  <tbody>\n",
       "    <tr>\n",
       "      <th>0</th>\n",
       "      <td>0</td>\n",
       "      <td>0</td>\n",
       "      <td>0</td>\n",
       "      <td>0</td>\n",
       "      <td>1</td>\n",
       "      <td>0</td>\n",
       "      <td>0</td>\n",
       "      <td>0</td>\n",
       "      <td>0</td>\n",
       "      <td>0</td>\n",
       "      <td>0</td>\n",
       "      <td>0</td>\n",
       "      <td>0</td>\n",
       "      <td>0</td>\n",
       "      <td>0</td>\n",
       "      <td>0</td>\n",
       "    </tr>\n",
       "    <tr>\n",
       "      <th>1</th>\n",
       "      <td>0</td>\n",
       "      <td>0</td>\n",
       "      <td>0</td>\n",
       "      <td>0</td>\n",
       "      <td>0</td>\n",
       "      <td>0</td>\n",
       "      <td>0</td>\n",
       "      <td>0</td>\n",
       "      <td>0</td>\n",
       "      <td>0</td>\n",
       "      <td>1</td>\n",
       "      <td>0</td>\n",
       "      <td>0</td>\n",
       "      <td>0</td>\n",
       "      <td>0</td>\n",
       "      <td>0</td>\n",
       "    </tr>\n",
       "    <tr>\n",
       "      <th>2</th>\n",
       "      <td>0</td>\n",
       "      <td>0</td>\n",
       "      <td>0</td>\n",
       "      <td>0</td>\n",
       "      <td>0</td>\n",
       "      <td>0</td>\n",
       "      <td>0</td>\n",
       "      <td>0</td>\n",
       "      <td>1</td>\n",
       "      <td>0</td>\n",
       "      <td>0</td>\n",
       "      <td>0</td>\n",
       "      <td>0</td>\n",
       "      <td>0</td>\n",
       "      <td>0</td>\n",
       "      <td>0</td>\n",
       "    </tr>\n",
       "    <tr>\n",
       "      <th>3</th>\n",
       "      <td>0</td>\n",
       "      <td>0</td>\n",
       "      <td>0</td>\n",
       "      <td>0</td>\n",
       "      <td>0</td>\n",
       "      <td>0</td>\n",
       "      <td>0</td>\n",
       "      <td>0</td>\n",
       "      <td>0</td>\n",
       "      <td>0</td>\n",
       "      <td>0</td>\n",
       "      <td>0</td>\n",
       "      <td>1</td>\n",
       "      <td>0</td>\n",
       "      <td>0</td>\n",
       "      <td>0</td>\n",
       "    </tr>\n",
       "    <tr>\n",
       "      <th>4</th>\n",
       "      <td>0</td>\n",
       "      <td>0</td>\n",
       "      <td>0</td>\n",
       "      <td>0</td>\n",
       "      <td>0</td>\n",
       "      <td>0</td>\n",
       "      <td>0</td>\n",
       "      <td>0</td>\n",
       "      <td>0</td>\n",
       "      <td>1</td>\n",
       "      <td>0</td>\n",
       "      <td>0</td>\n",
       "      <td>0</td>\n",
       "      <td>0</td>\n",
       "      <td>0</td>\n",
       "      <td>0</td>\n",
       "    </tr>\n",
       "  </tbody>\n",
       "</table>\n",
       "</div>"
      ],
      "text/plain": [
       "   MM_Analgesics  MM_Antacids  MM_Antibiotics  MM_Antifungal  MM_Antimalarial  \\\n",
       "0              0            0               0              0                1   \n",
       "1              0            0               0              0                0   \n",
       "2              0            0               0              0                0   \n",
       "3              0            0               0              0                0   \n",
       "4              0            0               0              0                0   \n",
       "\n",
       "   MM_Antipyretics  MM_Antiseptics  MM_Antiviral  MM_Cardiac  \\\n",
       "0                0               0             0           0   \n",
       "1                0               0             0           0   \n",
       "2                0               0             0           1   \n",
       "3                0               0             0           0   \n",
       "4                0               0             0           0   \n",
       "\n",
       "   MM_Hreplacements  MM_Mstablizers  MM_MuscleRelaxants  \\\n",
       "0                 0               0                   0   \n",
       "1                 0               1                   0   \n",
       "2                 0               0                   0   \n",
       "3                 0               0                   0   \n",
       "4                 1               0                   0   \n",
       "\n",
       "   MM_OralContraceptives  MM_Statins  MM_Stimulants  MM_Tranquilizers  \n",
       "0                      0           0              0                 0  \n",
       "1                      0           0              0                 0  \n",
       "2                      0           0              0                 0  \n",
       "3                      1           0              0                 0  \n",
       "4                      0           0              0                 0  "
      ]
     },
     "execution_count": 17,
     "metadata": {},
     "output_type": "execute_result"
    }
   ],
   "source": [
    "MT_dummies.head()"
   ]
  },
  {
   "cell_type": "code",
   "execution_count": 18,
   "id": "345d7a80",
   "metadata": {},
   "outputs": [],
   "source": [
    "\n",
    "cf_all=pd.concat([cf_all,MT_dummies],axis=1)\n",
    "cf_all=cf_all.drop(['Medicine_Type','MM_Antiviral'],axis=1)"
   ]
  },
  {
   "cell_type": "code",
   "execution_count": 19,
   "id": "8dc641a2",
   "metadata": {},
   "outputs": [
    {
     "data": {
      "text/plain": [
       "(8523, 32)"
      ]
     },
     "execution_count": 19,
     "metadata": {},
     "output_type": "execute_result"
    }
   ],
   "source": [
    "cf_all.shape"
   ]
  },
  {
   "cell_type": "code",
   "execution_count": 20,
   "id": "87ccbb69",
   "metadata": {},
   "outputs": [],
   "source": [
    "\n",
    "cf_all=cf_all.drop(['Medicine_ID','DistArea_ID'],axis=1)"
   ]
  },
  {
   "cell_type": "code",
   "execution_count": 21,
   "id": "97d2ea99",
   "metadata": {},
   "outputs": [],
   "source": [
    "for col in cf_all.columns:\n",
    "    if(col not in ['Counterfeit_Sales','data']) & (cf_all[col].isnull().sum()>0):\n",
    "        cf_all.loc[cf_all[col].isnull(),col]=cf_all.loc[cf_all['data']=='train',col].mean()"
   ]
  },
  {
   "cell_type": "code",
   "execution_count": 22,
   "id": "4e22e981",
   "metadata": {},
   "outputs": [
    {
     "data": {
      "text/plain": [
       "Counterfeit_Weight          0\n",
       "Active_Since                0\n",
       "Medicine_MRP                0\n",
       "Availability_rating         0\n",
       "Counterfeit_Sales        1705\n",
       "data                        0\n",
       "sideffect                   0\n",
       "DT                          0\n",
       "MTR                         0\n",
       "AreaName                    0\n",
       "T3                          0\n",
       "T2                          0\n",
       "medium                      0\n",
       "unknown                     0\n",
       "small                       0\n",
       "MM_Analgesics               0\n",
       "MM_Antacids                 0\n",
       "MM_Antibiotics              0\n",
       "MM_Antifungal               0\n",
       "MM_Antimalarial             0\n",
       "MM_Antipyretics             0\n",
       "MM_Antiseptics              0\n",
       "MM_Cardiac                  0\n",
       "MM_Hreplacements            0\n",
       "MM_Mstablizers              0\n",
       "MM_MuscleRelaxants          0\n",
       "MM_OralContraceptives       0\n",
       "MM_Statins                  0\n",
       "MM_Stimulants               0\n",
       "MM_Tranquilizers            0\n",
       "dtype: int64"
      ]
     },
     "execution_count": 22,
     "metadata": {},
     "output_type": "execute_result"
    }
   ],
   "source": [
    "cf_all.isnull().sum()"
   ]
  },
  {
   "cell_type": "code",
   "execution_count": 23,
   "id": "9aa5a4f9",
   "metadata": {},
   "outputs": [
    {
     "name": "stderr",
     "output_type": "stream",
     "text": [
      "C:\\Users\\gtu\\AppData\\Local\\Temp\\ipykernel_11312\\183993018.py:4: SettingWithCopyWarning: \n",
      "A value is trying to be set on a copy of a slice from a DataFrame\n",
      "\n",
      "See the caveats in the documentation: https://pandas.pydata.org/pandas-docs/stable/user_guide/indexing.html#returning-a-view-versus-a-copy\n",
      "  cf_test.drop(['Counterfeit_Sales','data'],axis=1,inplace=True)\n"
     ]
    }
   ],
   "source": [
    "cf_train=cf_all[cf_all['data']=='train']\n",
    "del cf_train['data']\n",
    "cf_test=cf_all[cf_all['data']=='test']\n",
    "cf_test.drop(['Counterfeit_Sales','data'],axis=1,inplace=True)"
   ]
  },
  {
   "cell_type": "code",
   "execution_count": 24,
   "id": "3f5a37aa",
   "metadata": {},
   "outputs": [],
   "source": [
    "del cf_all"
   ]
  },
  {
   "cell_type": "code",
   "execution_count": 30,
   "id": "779f7419",
   "metadata": {},
   "outputs": [
    {
     "name": "stdout",
     "output_type": "stream",
     "text": [
      "Collecting sklearn\n",
      "  Using cached sklearn-0.0.post1.tar.gz (3.6 kB)\n",
      "  Preparing metadata (setup.py): started\n",
      "  Preparing metadata (setup.py): finished with status 'done'\n",
      "Building wheels for collected packages: sklearn\n",
      "  Building wheel for sklearn (setup.py): started\n",
      "  Building wheel for sklearn (setup.py): finished with status 'done'\n",
      "  Created wheel for sklearn: filename=sklearn-0.0.post1-py3-none-any.whl size=2936 sha256=429430f381bf2e05516023681c02f7ff343f55ba0e72a8632480e836f9c862e5\n",
      "  Stored in directory: c:\\users\\gtu\\appdata\\local\\pip\\cache\\wheels\\f8\\e0\\3d\\9d0c2020c44a519b9f02ab4fa6d2a4a996c98d79ab2f569fa1\n",
      "Successfully built sklearn\n",
      "Installing collected packages: sklearn\n",
      "Successfully installed sklearn-0.0.post1\n",
      "Note: you may need to restart the kernel to use updated packages.\n"
     ]
    }
   ],
   "source": [
    "pip install sklearn"
   ]
  },
  {
   "cell_type": "code",
   "execution_count": 33,
   "id": "4e194965",
   "metadata": {},
   "outputs": [],
   "source": [
    "\n",
    "from sklearn.model_selection import train_test_split\n",
    "from sklearn.model_selection import KFold\n",
    "from sklearn.linear_model import LinearRegression, Lasso, Ridge\n",
    "from sklearn.metrics import mean_absolute_error\n",
    "from sklearn.metrics import mean_squared_error"
   ]
  },
  {
   "cell_type": "code",
   "execution_count": 34,
   "id": "8f8e829b",
   "metadata": {},
   "outputs": [],
   "source": [
    "cf_train1,cf_train2=train_test_split(cf_train, test_size=.2, random_state=2)"
   ]
  },
  {
   "cell_type": "code",
   "execution_count": 35,
   "id": "2cdc6ed9",
   "metadata": {},
   "outputs": [],
   "source": [
    "x_train1=cf_train1.drop('Counterfeit_Sales',axis=1)\n",
    "y_train1=cf_train1['Counterfeit_Sales']\n",
    "x_train2=cf_train2.drop('Counterfeit_Sales',axis=1)\n",
    "y_train2=cf_train2['Counterfeit_Sales']"
   ]
  },
  {
   "cell_type": "code",
   "execution_count": 36,
   "id": "3532f282",
   "metadata": {},
   "outputs": [],
   "source": [
    "lm=LinearRegression()\n",
    "lm.fit(x_train1,y_train1)\n",
    "x_train1.shape\n",
    "lm.intercept_\n",
    "list(zip(x_train1.columns,lm.coef_))\n",
    "predicted_ir=lm.predict(x_train2)"
   ]
  },
  {
   "cell_type": "code",
   "execution_count": 37,
   "id": "4e3fffee",
   "metadata": {},
   "outputs": [
    {
     "data": {
      "text/plain": [
       "830.0501468413134"
      ]
     },
     "execution_count": 37,
     "metadata": {},
     "output_type": "execute_result"
    }
   ],
   "source": [
    "mean_absolute_error(cf_train2['Counterfeit_Sales'],predicted_ir)"
   ]
  },
  {
   "cell_type": "code",
   "execution_count": 38,
   "id": "72e18b32",
   "metadata": {},
   "outputs": [],
   "source": [
    "y_train2=cf_train2['Counterfeit_Sales']"
   ]
  },
  {
   "cell_type": "code",
   "execution_count": 39,
   "id": "88c15f99",
   "metadata": {},
   "outputs": [],
   "source": [
    "from sklearn.metrics import r2_score"
   ]
  },
  {
   "cell_type": "code",
   "execution_count": 40,
   "id": "70d6e28c",
   "metadata": {},
   "outputs": [
    {
     "data": {
      "text/plain": [
       "0.18276366063437077"
      ]
     },
     "execution_count": 40,
     "metadata": {},
     "output_type": "execute_result"
    }
   ],
   "source": [
    "r2_score(predicted_ir,y_train2)"
   ]
  },
  {
   "cell_type": "code",
   "execution_count": 41,
   "id": "24e3b12e",
   "metadata": {},
   "outputs": [],
   "source": [
    "from sklearn.ensemble import RandomForestRegressor"
   ]
  },
  {
   "cell_type": "code",
   "execution_count": 42,
   "id": "dac32e14",
   "metadata": {},
   "outputs": [],
   "source": [
    "rf=RandomForestRegressor(n_estimators=600,criterion='mse',max_depth=6,bootstrap=True,min_samples_split=2)"
   ]
  },
  {
   "cell_type": "code",
   "execution_count": 43,
   "id": "083d32f3",
   "metadata": {},
   "outputs": [
    {
     "name": "stderr",
     "output_type": "stream",
     "text": [
      "C:\\Users\\gtu\\anaconda3\\anaco\\lib\\site-packages\\sklearn\\ensemble\\_forest.py:396: FutureWarning: Criterion 'mse' was deprecated in v1.0 and will be removed in version 1.2. Use `criterion='squared_error'` which is equivalent.\n",
      "  warn(\n"
     ]
    },
    {
     "data": {
      "text/plain": [
       "RandomForestRegressor(criterion='mse', max_depth=6, n_estimators=600)"
      ]
     },
     "execution_count": 43,
     "metadata": {},
     "output_type": "execute_result"
    }
   ],
   "source": [
    "rf.fit(x_train1,y_train1)"
   ]
  },
  {
   "cell_type": "code",
   "execution_count": 50,
   "id": "f105ef9a",
   "metadata": {},
   "outputs": [
    {
     "name": "stdout",
     "output_type": "stream",
     "text": [
      "756.1389473542032\n"
     ]
    }
   ],
   "source": [
    "predicted_rf=rf.predict(x_train2)\n",
    "xx=mean_absolute_error(cf_train2['Counterfeit_Sales'],predicted_rf)\n",
    "print(xx)"
   ]
  },
  {
   "cell_type": "code",
   "execution_count": 51,
   "id": "9a814401",
   "metadata": {},
   "outputs": [
    {
     "name": "stdout",
     "output_type": "stream",
     "text": [
      "0.5444946100275885\n"
     ]
    }
   ],
   "source": [
    "score=1-(xx/1660)\n",
    "print(score)"
   ]
  },
  {
   "cell_type": "code",
   "execution_count": null,
   "id": "e7add35b",
   "metadata": {},
   "outputs": [],
   "source": []
  }
 ],
 "metadata": {
  "kernelspec": {
   "display_name": "Python 3 (ipykernel)",
   "language": "python",
   "name": "python3"
  },
  "language_info": {
   "codemirror_mode": {
    "name": "ipython",
    "version": 3
   },
   "file_extension": ".py",
   "mimetype": "text/x-python",
   "name": "python",
   "nbconvert_exporter": "python",
   "pygments_lexer": "ipython3",
   "version": "3.9.13"
  }
 },
 "nbformat": 4,
 "nbformat_minor": 5
}
